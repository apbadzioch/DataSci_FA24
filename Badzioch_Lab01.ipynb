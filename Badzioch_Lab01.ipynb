{
 "cells": [
  {
   "cell_type": "markdown",
   "metadata": {},
   "source": [
    "- Python Data Structures are:\n",
    "\n",
    "1. Lists: They are order, can have duplocate, mutable.\n",
    "2. Tuples: They  are ordered, can have duplicates, immutable.\n",
    "3. Sets: They are unordered, no duplicates, immutable(but we can add and remove elements in a set).\n",
    "4. Dictionaries: They are unordered, no duplicates, mutable.\n",
    "\n",
    "**The main difference between dictionaries and other data structures is that lists, tuples, and sets have only single elements, whereas dictionaries have a pair of key:values.**"
   ]
  },
  {
   "cell_type": "markdown",
   "metadata": {},
   "source": []
  }
 ],
 "metadata": {
  "kernelspec": {
   "display_name": "Python 3",
   "language": "python",
   "name": "python3"
  },
  "language_info": {
   "name": "python",
   "version": "3.12.4"
  }
 },
 "nbformat": 4,
 "nbformat_minor": 2
}
