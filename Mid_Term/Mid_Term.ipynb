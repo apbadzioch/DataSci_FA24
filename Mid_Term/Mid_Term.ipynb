{
 "cells": [
  {
   "cell_type": "markdown",
   "metadata": {},
   "source": [
    "### 1. Introduction"
   ]
  },
  {
   "cell_type": "markdown",
   "metadata": {},
   "source": [
    "### 2. Importing the Libraries"
   ]
  },
  {
   "cell_type": "code",
   "execution_count": 1,
   "metadata": {},
   "outputs": [],
   "source": [
    "import  numpy as np\n",
    "import pandas as pd\n",
    "\n",
    "import matplotlib.pyplot as plt\n",
    "import seaborn as sns\n",
    "\n",
    "import warnings\n",
    "warnings.filterwarnings('ignore')"
   ]
  },
  {
   "cell_type": "markdown",
   "metadata": {},
   "source": [
    "### 3. Loading the Dataset"
   ]
  },
  {
   "cell_type": "code",
   "execution_count": 2,
   "metadata": {},
   "outputs": [],
   "source": [
    "df = pd.read_csv('sneakers.csv')"
   ]
  },
  {
   "cell_type": "code",
   "execution_count": 3,
   "metadata": {},
   "outputs": [
    {
     "data": {
      "text/html": [
       "<div>\n",
       "<style scoped>\n",
       "    .dataframe tbody tr th:only-of-type {\n",
       "        vertical-align: middle;\n",
       "    }\n",
       "\n",
       "    .dataframe tbody tr th {\n",
       "        vertical-align: top;\n",
       "    }\n",
       "\n",
       "    .dataframe thead th {\n",
       "        text-align: right;\n",
       "    }\n",
       "</style>\n",
       "<table border=\"1\" class=\"dataframe\">\n",
       "  <thead>\n",
       "    <tr style=\"text-align: right;\">\n",
       "      <th></th>\n",
       "      <th>Product Name</th>\n",
       "      <th>Product ID</th>\n",
       "      <th>Listing Price</th>\n",
       "      <th>Sale Price</th>\n",
       "      <th>Discount</th>\n",
       "      <th>Brand</th>\n",
       "      <th>Rating</th>\n",
       "      <th>Reviews</th>\n",
       "    </tr>\n",
       "  </thead>\n",
       "  <tbody>\n",
       "    <tr>\n",
       "      <th>0</th>\n",
       "      <td>Women's adidas Originals NMD_Racer Primeknit S...</td>\n",
       "      <td>AH2430</td>\n",
       "      <td>14999</td>\n",
       "      <td>7499</td>\n",
       "      <td>50</td>\n",
       "      <td>Adidas Adidas ORIGINALS</td>\n",
       "      <td>4.8</td>\n",
       "      <td>41</td>\n",
       "    </tr>\n",
       "    <tr>\n",
       "      <th>1</th>\n",
       "      <td>Women's adidas Originals Sleek Shoes</td>\n",
       "      <td>G27341</td>\n",
       "      <td>7599</td>\n",
       "      <td>3799</td>\n",
       "      <td>50</td>\n",
       "      <td>Adidas ORIGINALS</td>\n",
       "      <td>3.3</td>\n",
       "      <td>24</td>\n",
       "    </tr>\n",
       "    <tr>\n",
       "      <th>2</th>\n",
       "      <td>Women's adidas Swim Puka Slippers</td>\n",
       "      <td>CM0081</td>\n",
       "      <td>999</td>\n",
       "      <td>599</td>\n",
       "      <td>40</td>\n",
       "      <td>Adidas CORE / NEO</td>\n",
       "      <td>2.6</td>\n",
       "      <td>37</td>\n",
       "    </tr>\n",
       "    <tr>\n",
       "      <th>3</th>\n",
       "      <td>Women's adidas Sport Inspired Questar Ride Shoes</td>\n",
       "      <td>B44832</td>\n",
       "      <td>6999</td>\n",
       "      <td>3499</td>\n",
       "      <td>50</td>\n",
       "      <td>Adidas CORE / NEO</td>\n",
       "      <td>4.1</td>\n",
       "      <td>35</td>\n",
       "    </tr>\n",
       "    <tr>\n",
       "      <th>4</th>\n",
       "      <td>Women's adidas Originals Taekwondo Shoes</td>\n",
       "      <td>D98205</td>\n",
       "      <td>7999</td>\n",
       "      <td>3999</td>\n",
       "      <td>50</td>\n",
       "      <td>Adidas ORIGINALS</td>\n",
       "      <td>3.5</td>\n",
       "      <td>72</td>\n",
       "    </tr>\n",
       "  </tbody>\n",
       "</table>\n",
       "</div>"
      ],
      "text/plain": [
       "                                        Product Name Product ID  \\\n",
       "0  Women's adidas Originals NMD_Racer Primeknit S...     AH2430   \n",
       "1               Women's adidas Originals Sleek Shoes     G27341   \n",
       "2                  Women's adidas Swim Puka Slippers     CM0081   \n",
       "3   Women's adidas Sport Inspired Questar Ride Shoes     B44832   \n",
       "4           Women's adidas Originals Taekwondo Shoes     D98205   \n",
       "\n",
       "   Listing Price  Sale Price  Discount                    Brand  Rating  \\\n",
       "0          14999        7499        50  Adidas Adidas ORIGINALS     4.8   \n",
       "1           7599        3799        50         Adidas ORIGINALS     3.3   \n",
       "2            999         599        40        Adidas CORE / NEO     2.6   \n",
       "3           6999        3499        50        Adidas CORE / NEO     4.1   \n",
       "4           7999        3999        50         Adidas ORIGINALS     3.5   \n",
       "\n",
       "   Reviews  \n",
       "0       41  \n",
       "1       24  \n",
       "2       37  \n",
       "3       35  \n",
       "4       72  "
      ]
     },
     "execution_count": 3,
     "metadata": {},
     "output_type": "execute_result"
    }
   ],
   "source": [
    "sneakers = df.copy()\n",
    "sneakers.head()"
   ]
  },
  {
   "cell_type": "code",
   "execution_count": 4,
   "metadata": {},
   "outputs": [
    {
     "name": "stdout",
     "output_type": "stream",
     "text": [
      "the shape of the DataFrame is:  (3268, 8)\n",
      "the size of the DataFrame is:  26144\n",
      "the dimension of the DataFrame is:  2\n",
      "the column names of the DataFrame are:  Index(['Product Name', 'Product ID', 'Listing Price', 'Sale Price', 'Discount',\n",
      "       'Brand', 'Rating', 'Reviews'],\n",
      "      dtype='object')\n",
      "the dtypes of the DataFrame is:  Product Name      object\n",
      "Product ID        object\n",
      "Listing Price      int64\n",
      "Sale Price         int64\n",
      "Discount           int64\n",
      "Brand             object\n",
      "Rating           float64\n",
      "Reviews            int64\n",
      "dtype: object\n"
     ]
    }
   ],
   "source": [
    "print('the shape of the DataFrame is: ', sneakers.shape)\n",
    "print('the size of the DataFrame is: ', sneakers.size)\n",
    "print('the dimension of the DataFrame is: ', sneakers.ndim)\n",
    "print('the column names of the DataFrame are: ', sneakers.columns)\n",
    "print('the dtypes of the DataFrame is: ', sneakers.dtypes)"
   ]
  },
  {
   "cell_type": "code",
   "execution_count": 5,
   "metadata": {},
   "outputs": [
    {
     "name": "stdout",
     "output_type": "stream",
     "text": [
      "<class 'pandas.core.frame.DataFrame'>\n",
      "RangeIndex: 3268 entries, 0 to 3267\n",
      "Data columns (total 8 columns):\n",
      " #   Column         Non-Null Count  Dtype  \n",
      "---  ------         --------------  -----  \n",
      " 0   Product Name   3268 non-null   object \n",
      " 1   Product ID     3268 non-null   object \n",
      " 2   Listing Price  3268 non-null   int64  \n",
      " 3   Sale Price     3268 non-null   int64  \n",
      " 4   Discount       3268 non-null   int64  \n",
      " 5   Brand          3268 non-null   object \n",
      " 6   Rating         3268 non-null   float64\n",
      " 7   Reviews        3268 non-null   int64  \n",
      "dtypes: float64(1), int64(4), object(3)\n",
      "memory usage: 204.4+ KB\n"
     ]
    }
   ],
   "source": [
    "sneakers.info()"
   ]
  },
  {
   "cell_type": "code",
   "execution_count": 6,
   "metadata": {},
   "outputs": [
    {
     "data": {
      "text/html": [
       "<div>\n",
       "<style scoped>\n",
       "    .dataframe tbody tr th:only-of-type {\n",
       "        vertical-align: middle;\n",
       "    }\n",
       "\n",
       "    .dataframe tbody tr th {\n",
       "        vertical-align: top;\n",
       "    }\n",
       "\n",
       "    .dataframe thead th {\n",
       "        text-align: right;\n",
       "    }\n",
       "</style>\n",
       "<table border=\"1\" class=\"dataframe\">\n",
       "  <thead>\n",
       "    <tr style=\"text-align: right;\">\n",
       "      <th></th>\n",
       "      <th>Listing Price</th>\n",
       "      <th>Sale Price</th>\n",
       "      <th>Discount</th>\n",
       "      <th>Rating</th>\n",
       "      <th>Reviews</th>\n",
       "    </tr>\n",
       "  </thead>\n",
       "  <tbody>\n",
       "    <tr>\n",
       "      <th>count</th>\n",
       "      <td>3268.000000</td>\n",
       "      <td>3268.000000</td>\n",
       "      <td>3268.000000</td>\n",
       "      <td>3268.000000</td>\n",
       "      <td>3268.000000</td>\n",
       "    </tr>\n",
       "    <tr>\n",
       "      <th>mean</th>\n",
       "      <td>6868.020196</td>\n",
       "      <td>6134.265606</td>\n",
       "      <td>26.875765</td>\n",
       "      <td>3.242105</td>\n",
       "      <td>40.551714</td>\n",
       "    </tr>\n",
       "    <tr>\n",
       "      <th>std</th>\n",
       "      <td>4724.659386</td>\n",
       "      <td>4293.247581</td>\n",
       "      <td>22.633487</td>\n",
       "      <td>1.428856</td>\n",
       "      <td>31.543491</td>\n",
       "    </tr>\n",
       "    <tr>\n",
       "      <th>min</th>\n",
       "      <td>0.000000</td>\n",
       "      <td>449.000000</td>\n",
       "      <td>0.000000</td>\n",
       "      <td>0.000000</td>\n",
       "      <td>0.000000</td>\n",
       "    </tr>\n",
       "    <tr>\n",
       "      <th>25%</th>\n",
       "      <td>4299.000000</td>\n",
       "      <td>2999.000000</td>\n",
       "      <td>0.000000</td>\n",
       "      <td>2.600000</td>\n",
       "      <td>10.000000</td>\n",
       "    </tr>\n",
       "    <tr>\n",
       "      <th>50%</th>\n",
       "      <td>5999.000000</td>\n",
       "      <td>4799.000000</td>\n",
       "      <td>40.000000</td>\n",
       "      <td>3.500000</td>\n",
       "      <td>37.000000</td>\n",
       "    </tr>\n",
       "    <tr>\n",
       "      <th>75%</th>\n",
       "      <td>8999.000000</td>\n",
       "      <td>7995.000000</td>\n",
       "      <td>50.000000</td>\n",
       "      <td>4.400000</td>\n",
       "      <td>68.000000</td>\n",
       "    </tr>\n",
       "    <tr>\n",
       "      <th>max</th>\n",
       "      <td>29999.000000</td>\n",
       "      <td>36500.000000</td>\n",
       "      <td>60.000000</td>\n",
       "      <td>5.000000</td>\n",
       "      <td>223.000000</td>\n",
       "    </tr>\n",
       "  </tbody>\n",
       "</table>\n",
       "</div>"
      ],
      "text/plain": [
       "       Listing Price    Sale Price     Discount       Rating      Reviews\n",
       "count    3268.000000   3268.000000  3268.000000  3268.000000  3268.000000\n",
       "mean     6868.020196   6134.265606    26.875765     3.242105    40.551714\n",
       "std      4724.659386   4293.247581    22.633487     1.428856    31.543491\n",
       "min         0.000000    449.000000     0.000000     0.000000     0.000000\n",
       "25%      4299.000000   2999.000000     0.000000     2.600000    10.000000\n",
       "50%      5999.000000   4799.000000    40.000000     3.500000    37.000000\n",
       "75%      8999.000000   7995.000000    50.000000     4.400000    68.000000\n",
       "max     29999.000000  36500.000000    60.000000     5.000000   223.000000"
      ]
     },
     "execution_count": 6,
     "metadata": {},
     "output_type": "execute_result"
    }
   ],
   "source": [
    "sneakers.describe()"
   ]
  },
  {
   "cell_type": "code",
   "execution_count": 7,
   "metadata": {},
   "outputs": [
    {
     "data": {
      "text/html": [
       "<div>\n",
       "<style scoped>\n",
       "    .dataframe tbody tr th:only-of-type {\n",
       "        vertical-align: middle;\n",
       "    }\n",
       "\n",
       "    .dataframe tbody tr th {\n",
       "        vertical-align: top;\n",
       "    }\n",
       "\n",
       "    .dataframe thead th {\n",
       "        text-align: right;\n",
       "    }\n",
       "</style>\n",
       "<table border=\"1\" class=\"dataframe\">\n",
       "  <thead>\n",
       "    <tr style=\"text-align: right;\">\n",
       "      <th></th>\n",
       "      <th>Product Name</th>\n",
       "      <th>Product ID</th>\n",
       "      <th>Brand</th>\n",
       "    </tr>\n",
       "  </thead>\n",
       "  <tbody>\n",
       "    <tr>\n",
       "      <th>count</th>\n",
       "      <td>3268</td>\n",
       "      <td>3268</td>\n",
       "      <td>3268</td>\n",
       "    </tr>\n",
       "    <tr>\n",
       "      <th>unique</th>\n",
       "      <td>1531</td>\n",
       "      <td>3179</td>\n",
       "      <td>5</td>\n",
       "    </tr>\n",
       "    <tr>\n",
       "      <th>top</th>\n",
       "      <td>Women's adidas Originals Sambarose Shoes</td>\n",
       "      <td>CD6720-808</td>\n",
       "      <td>Adidas CORE / NEO</td>\n",
       "    </tr>\n",
       "    <tr>\n",
       "      <th>freq</th>\n",
       "      <td>16</td>\n",
       "      <td>3</td>\n",
       "      <td>1111</td>\n",
       "    </tr>\n",
       "  </tbody>\n",
       "</table>\n",
       "</div>"
      ],
      "text/plain": [
       "                                    Product Name  Product ID  \\\n",
       "count                                       3268        3268   \n",
       "unique                                      1531        3179   \n",
       "top     Women's adidas Originals Sambarose Shoes  CD6720-808   \n",
       "freq                                          16           3   \n",
       "\n",
       "                    Brand  \n",
       "count                3268  \n",
       "unique                  5  \n",
       "top     Adidas CORE / NEO  \n",
       "freq                 1111  "
      ]
     },
     "execution_count": 7,
     "metadata": {},
     "output_type": "execute_result"
    }
   ],
   "source": [
    "sneakers.describe(include='object')"
   ]
  },
  {
   "cell_type": "code",
   "execution_count": 8,
   "metadata": {},
   "outputs": [
    {
     "data": {
      "text/plain": [
       "Product Name     0\n",
       "Product ID       0\n",
       "Listing Price    0\n",
       "Sale Price       0\n",
       "Discount         0\n",
       "Brand            0\n",
       "Rating           0\n",
       "Reviews          0\n",
       "dtype: int64"
      ]
     },
     "execution_count": 8,
     "metadata": {},
     "output_type": "execute_result"
    }
   ],
   "source": [
    "sneakers.isnull().sum()"
   ]
  },
  {
   "cell_type": "code",
   "execution_count": 9,
   "metadata": {},
   "outputs": [
    {
     "name": "stdout",
     "output_type": "stream",
     "text": [
      "Product Name     88\n",
      "Product ID       88\n",
      "Listing Price    88\n",
      "Sale Price       88\n",
      "Discount         88\n",
      "Brand            88\n",
      "Rating           88\n",
      "Reviews          88\n",
      "dtype: int64\n"
     ]
    }
   ],
   "source": [
    "dup_rows = sneakers[sneakers.duplicated()].count()\n",
    "print(dup_rows)"
   ]
  },
  {
   "cell_type": "code",
   "execution_count": 10,
   "metadata": {},
   "outputs": [],
   "source": [
    "sneakers.drop_duplicates(inplace=True, ignore_index=True)"
   ]
  },
  {
   "cell_type": "code",
   "execution_count": 11,
   "metadata": {},
   "outputs": [
    {
     "data": {
      "text/plain": [
       "Product Name     0\n",
       "Product ID       0\n",
       "Listing Price    0\n",
       "Sale Price       0\n",
       "Discount         0\n",
       "Brand            0\n",
       "Rating           0\n",
       "Reviews          0\n",
       "dtype: int64"
      ]
     },
     "execution_count": 11,
     "metadata": {},
     "output_type": "execute_result"
    }
   ],
   "source": [
    "sneakers[sneakers.duplicated()].count()"
   ]
  },
  {
   "cell_type": "code",
   "execution_count": null,
   "metadata": {},
   "outputs": [],
   "source": []
  }
 ],
 "metadata": {
  "kernelspec": {
   "display_name": "base",
   "language": "python",
   "name": "python3"
  },
  "language_info": {
   "codemirror_mode": {
    "name": "ipython",
    "version": 3
   },
   "file_extension": ".py",
   "mimetype": "text/x-python",
   "name": "python",
   "nbconvert_exporter": "python",
   "pygments_lexer": "ipython3",
   "version": "3.11.7"
  }
 },
 "nbformat": 4,
 "nbformat_minor": 2
}
