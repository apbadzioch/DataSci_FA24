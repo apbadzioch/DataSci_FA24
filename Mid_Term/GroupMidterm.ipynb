{
 "cells": [
  {
   "cell_type": "markdown",
   "id": "5a2dfe14",
   "metadata": {},
   "source": [
    "# Midterm Project (Team #1) Kaylee Auguillard, Andrew Badzioch,\n",
    "\n",
    "1. Team Members: Kaylee Auguillard, Andrew Badzioch, \n",
    "2. Step(s) and the member who completes the step(s)."
   ]
  },
  {
   "cell_type": "markdown",
   "id": "db447176",
   "metadata": {},
   "source": [
    "## Step 1: Introduction \n",
    "- Context \n",
    "     - In this project, you will make a comparison between Adidas and Nike sneakers products.\n",
    "- Objectives\n",
    "     - Data and opinion mining from the dataset and answering mining questions.\n",
    "- Data Description \n",
    "- Dataset: sneakers.csv\n",
    "    - Product Name: Name of the product\n",
    "    - Product ID: ID of the product\n",
    "    - Listing Price: Listed price of the product\n",
    "    - Sale Price: Sale price of the product\n",
    "    - Discount: Percentage of discount on the product\n",
    "    - Brand: Brand of the product\n",
    "    - Rating: Rating of the product\n",
    "    - Reviews: Number of reviews for the product\n"
   ]
  },
  {
   "cell_type": "markdown",
   "id": "5629d02b",
   "metadata": {},
   "source": [
    "## Step 2: Importing Libraries\n",
    "- Import all needed libraries for this project"
   ]
  },
  {
   "cell_type": "code",
   "execution_count": 1,
   "id": "17b7d588",
   "metadata": {},
   "outputs": [],
   "source": [
    "#general libraries\n",
    "import numpy as np\n",
    "import pandas as pd\n",
    "import math\n",
    "\n",
    "#data visulaization libraries\n",
    "import matplotlib.pyplot as plt\n",
    "import seaborn as sns\n",
    "\n",
    "#suppressing the warnings\n",
    "import warnings\n",
    "warnings.filterwarnings('ignore')"
   ]
  },
  {
   "cell_type": "markdown",
   "id": "1d8b8660",
   "metadata": {},
   "source": [
    "## Step 3: Loading the Dataset"
   ]
  },
  {
   "cell_type": "code",
   "execution_count": 2,
   "id": "b33aa306",
   "metadata": {},
   "outputs": [],
   "source": [
    "df = pd.read_csv('sneakers.csv')"
   ]
  },
  {
   "cell_type": "code",
   "execution_count": 3,
   "id": "1b5649ce",
   "metadata": {},
   "outputs": [],
   "source": [
    "#make a copy of the dataset\n",
    "sneakers = df.copy()"
   ]
  },
  {
   "cell_type": "code",
   "execution_count": 4,
   "id": "283f17b5",
   "metadata": {},
   "outputs": [
    {
     "data": {
      "text/html": [
       "<div>\n",
       "<style scoped>\n",
       "    .dataframe tbody tr th:only-of-type {\n",
       "        vertical-align: middle;\n",
       "    }\n",
       "\n",
       "    .dataframe tbody tr th {\n",
       "        vertical-align: top;\n",
       "    }\n",
       "\n",
       "    .dataframe thead th {\n",
       "        text-align: right;\n",
       "    }\n",
       "</style>\n",
       "<table border=\"1\" class=\"dataframe\">\n",
       "  <thead>\n",
       "    <tr style=\"text-align: right;\">\n",
       "      <th></th>\n",
       "      <th>Product Name</th>\n",
       "      <th>Product ID</th>\n",
       "      <th>Listing Price</th>\n",
       "      <th>Sale Price</th>\n",
       "      <th>Discount</th>\n",
       "      <th>Brand</th>\n",
       "      <th>Rating</th>\n",
       "      <th>Reviews</th>\n",
       "    </tr>\n",
       "  </thead>\n",
       "  <tbody>\n",
       "    <tr>\n",
       "      <th>0</th>\n",
       "      <td>Women's adidas Originals NMD_Racer Primeknit S...</td>\n",
       "      <td>AH2430</td>\n",
       "      <td>14999</td>\n",
       "      <td>7499</td>\n",
       "      <td>50</td>\n",
       "      <td>Adidas Adidas ORIGINALS</td>\n",
       "      <td>4.8</td>\n",
       "      <td>41</td>\n",
       "    </tr>\n",
       "    <tr>\n",
       "      <th>1</th>\n",
       "      <td>Women's adidas Originals Sleek Shoes</td>\n",
       "      <td>G27341</td>\n",
       "      <td>7599</td>\n",
       "      <td>3799</td>\n",
       "      <td>50</td>\n",
       "      <td>Adidas ORIGINALS</td>\n",
       "      <td>3.3</td>\n",
       "      <td>24</td>\n",
       "    </tr>\n",
       "    <tr>\n",
       "      <th>2</th>\n",
       "      <td>Women's adidas Swim Puka Slippers</td>\n",
       "      <td>CM0081</td>\n",
       "      <td>999</td>\n",
       "      <td>599</td>\n",
       "      <td>40</td>\n",
       "      <td>Adidas CORE / NEO</td>\n",
       "      <td>2.6</td>\n",
       "      <td>37</td>\n",
       "    </tr>\n",
       "    <tr>\n",
       "      <th>3</th>\n",
       "      <td>Women's adidas Sport Inspired Questar Ride Shoes</td>\n",
       "      <td>B44832</td>\n",
       "      <td>6999</td>\n",
       "      <td>3499</td>\n",
       "      <td>50</td>\n",
       "      <td>Adidas CORE / NEO</td>\n",
       "      <td>4.1</td>\n",
       "      <td>35</td>\n",
       "    </tr>\n",
       "    <tr>\n",
       "      <th>4</th>\n",
       "      <td>Women's adidas Originals Taekwondo Shoes</td>\n",
       "      <td>D98205</td>\n",
       "      <td>7999</td>\n",
       "      <td>3999</td>\n",
       "      <td>50</td>\n",
       "      <td>Adidas ORIGINALS</td>\n",
       "      <td>3.5</td>\n",
       "      <td>72</td>\n",
       "    </tr>\n",
       "    <tr>\n",
       "      <th>5</th>\n",
       "      <td>Women's adidas Sport Inspired Duramo Lite 2.0 ...</td>\n",
       "      <td>B75586</td>\n",
       "      <td>4799</td>\n",
       "      <td>1920</td>\n",
       "      <td>60</td>\n",
       "      <td>Adidas CORE / NEO</td>\n",
       "      <td>1.0</td>\n",
       "      <td>45</td>\n",
       "    </tr>\n",
       "    <tr>\n",
       "      <th>6</th>\n",
       "      <td>Women's adidas Sport Inspired Duramo Lite 2.0 ...</td>\n",
       "      <td>CG4051</td>\n",
       "      <td>4799</td>\n",
       "      <td>2399</td>\n",
       "      <td>50</td>\n",
       "      <td>Adidas CORE / NEO</td>\n",
       "      <td>4.4</td>\n",
       "      <td>2</td>\n",
       "    </tr>\n",
       "    <tr>\n",
       "      <th>7</th>\n",
       "      <td>Women's adidas Swim Puka Slippers</td>\n",
       "      <td>CM0080</td>\n",
       "      <td>999</td>\n",
       "      <td>599</td>\n",
       "      <td>40</td>\n",
       "      <td>Adidas CORE / NEO</td>\n",
       "      <td>2.8</td>\n",
       "      <td>7</td>\n",
       "    </tr>\n",
       "    <tr>\n",
       "      <th>8</th>\n",
       "      <td>WOMEN'S ADIDAS RUNNING DURAMO 9 SHOES</td>\n",
       "      <td>B75990</td>\n",
       "      <td>5599</td>\n",
       "      <td>2799</td>\n",
       "      <td>50</td>\n",
       "      <td>Adidas CORE / NEO</td>\n",
       "      <td>4.5</td>\n",
       "      <td>16</td>\n",
       "    </tr>\n",
       "    <tr>\n",
       "      <th>9</th>\n",
       "      <td>Men's adidas Originals Forest Grove Shoes</td>\n",
       "      <td>EE5761</td>\n",
       "      <td>6599</td>\n",
       "      <td>3959</td>\n",
       "      <td>40</td>\n",
       "      <td>Adidas ORIGINALS</td>\n",
       "      <td>4.0</td>\n",
       "      <td>39</td>\n",
       "    </tr>\n",
       "  </tbody>\n",
       "</table>\n",
       "</div>"
      ],
      "text/plain": [
       "                                        Product Name Product ID  \\\n",
       "0  Women's adidas Originals NMD_Racer Primeknit S...     AH2430   \n",
       "1               Women's adidas Originals Sleek Shoes     G27341   \n",
       "2                  Women's adidas Swim Puka Slippers     CM0081   \n",
       "3   Women's adidas Sport Inspired Questar Ride Shoes     B44832   \n",
       "4           Women's adidas Originals Taekwondo Shoes     D98205   \n",
       "5  Women's adidas Sport Inspired Duramo Lite 2.0 ...     B75586   \n",
       "6  Women's adidas Sport Inspired Duramo Lite 2.0 ...     CG4051   \n",
       "7                  Women's adidas Swim Puka Slippers     CM0080   \n",
       "8              WOMEN'S ADIDAS RUNNING DURAMO 9 SHOES     B75990   \n",
       "9          Men's adidas Originals Forest Grove Shoes     EE5761   \n",
       "\n",
       "   Listing Price  Sale Price  Discount                    Brand  Rating  \\\n",
       "0          14999        7499        50  Adidas Adidas ORIGINALS     4.8   \n",
       "1           7599        3799        50         Adidas ORIGINALS     3.3   \n",
       "2            999         599        40        Adidas CORE / NEO     2.6   \n",
       "3           6999        3499        50        Adidas CORE / NEO     4.1   \n",
       "4           7999        3999        50         Adidas ORIGINALS     3.5   \n",
       "5           4799        1920        60        Adidas CORE / NEO     1.0   \n",
       "6           4799        2399        50        Adidas CORE / NEO     4.4   \n",
       "7            999         599        40        Adidas CORE / NEO     2.8   \n",
       "8           5599        2799        50        Adidas CORE / NEO     4.5   \n",
       "9           6599        3959        40         Adidas ORIGINALS     4.0   \n",
       "\n",
       "   Reviews  \n",
       "0       41  \n",
       "1       24  \n",
       "2       37  \n",
       "3       35  \n",
       "4       72  \n",
       "5       45  \n",
       "6        2  \n",
       "7        7  \n",
       "8       16  \n",
       "9       39  "
      ]
     },
     "execution_count": 4,
     "metadata": {},
     "output_type": "execute_result"
    }
   ],
   "source": [
    "#making sure the dataset has been loaded\n",
    "sneakers.head(10)"
   ]
  },
  {
   "cell_type": "markdown",
   "id": "776b763a",
   "metadata": {},
   "source": [
    "# Step 4: EDA"
   ]
  },
  {
   "cell_type": "markdown",
   "id": "7dcbcafb",
   "metadata": {},
   "source": [
    "### A) Basic Data Exploration"
   ]
  },
  {
   "cell_type": "code",
   "execution_count": 5,
   "id": "e73b4357",
   "metadata": {},
   "outputs": [
    {
     "data": {
      "text/plain": [
       "(3268, 8)"
      ]
     },
     "execution_count": 5,
     "metadata": {},
     "output_type": "execute_result"
    }
   ],
   "source": [
    "sneakers.shape"
   ]
  },
  {
   "cell_type": "code",
   "execution_count": 6,
   "id": "41d6aa90",
   "metadata": {},
   "outputs": [
    {
     "data": {
      "text/plain": [
       "26144"
      ]
     },
     "execution_count": 6,
     "metadata": {},
     "output_type": "execute_result"
    }
   ],
   "source": [
    "sneakers.size"
   ]
  },
  {
   "cell_type": "code",
   "execution_count": 7,
   "id": "ca2394b1",
   "metadata": {},
   "outputs": [
    {
     "data": {
      "text/plain": [
       "2"
      ]
     },
     "execution_count": 7,
     "metadata": {},
     "output_type": "execute_result"
    }
   ],
   "source": [
    "sneakers.ndim"
   ]
  },
  {
   "cell_type": "code",
   "execution_count": 8,
   "id": "2e2be55c",
   "metadata": {},
   "outputs": [
    {
     "data": {
      "text/plain": [
       "Product Name      object\n",
       "Product ID        object\n",
       "Listing Price      int64\n",
       "Sale Price         int64\n",
       "Discount           int64\n",
       "Brand             object\n",
       "Rating           float64\n",
       "Reviews            int64\n",
       "dtype: object"
      ]
     },
     "execution_count": 8,
     "metadata": {},
     "output_type": "execute_result"
    }
   ],
   "source": [
    "sneakers.dtypes"
   ]
  },
  {
   "cell_type": "code",
   "execution_count": 9,
   "id": "cc732399",
   "metadata": {},
   "outputs": [
    {
     "data": {
      "text/plain": [
       "Index(['Product Name', 'Product ID', 'Listing Price', 'Sale Price', 'Discount',\n",
       "       'Brand', 'Rating', 'Reviews'],\n",
       "      dtype='object')"
      ]
     },
     "execution_count": 9,
     "metadata": {},
     "output_type": "execute_result"
    }
   ],
   "source": [
    "sneakers.columns"
   ]
  },
  {
   "cell_type": "code",
   "execution_count": 10,
   "id": "9b932425",
   "metadata": {},
   "outputs": [
    {
     "name": "stdout",
     "output_type": "stream",
     "text": [
      "<class 'pandas.core.frame.DataFrame'>\n",
      "RangeIndex: 3268 entries, 0 to 3267\n",
      "Data columns (total 8 columns):\n",
      " #   Column         Non-Null Count  Dtype  \n",
      "---  ------         --------------  -----  \n",
      " 0   Product Name   3268 non-null   object \n",
      " 1   Product ID     3268 non-null   object \n",
      " 2   Listing Price  3268 non-null   int64  \n",
      " 3   Sale Price     3268 non-null   int64  \n",
      " 4   Discount       3268 non-null   int64  \n",
      " 5   Brand          3268 non-null   object \n",
      " 6   Rating         3268 non-null   float64\n",
      " 7   Reviews        3268 non-null   int64  \n",
      "dtypes: float64(1), int64(4), object(3)\n",
      "memory usage: 204.4+ KB\n"
     ]
    }
   ],
   "source": [
    "sneakers.info()"
   ]
  },
  {
   "cell_type": "code",
   "execution_count": 11,
   "id": "52f3778b",
   "metadata": {},
   "outputs": [
    {
     "data": {
      "text/html": [
       "<div>\n",
       "<style scoped>\n",
       "    .dataframe tbody tr th:only-of-type {\n",
       "        vertical-align: middle;\n",
       "    }\n",
       "\n",
       "    .dataframe tbody tr th {\n",
       "        vertical-align: top;\n",
       "    }\n",
       "\n",
       "    .dataframe thead th {\n",
       "        text-align: right;\n",
       "    }\n",
       "</style>\n",
       "<table border=\"1\" class=\"dataframe\">\n",
       "  <thead>\n",
       "    <tr style=\"text-align: right;\">\n",
       "      <th></th>\n",
       "      <th>Listing Price</th>\n",
       "      <th>Sale Price</th>\n",
       "      <th>Discount</th>\n",
       "      <th>Rating</th>\n",
       "      <th>Reviews</th>\n",
       "    </tr>\n",
       "  </thead>\n",
       "  <tbody>\n",
       "    <tr>\n",
       "      <th>count</th>\n",
       "      <td>3268.000000</td>\n",
       "      <td>3268.000000</td>\n",
       "      <td>3268.000000</td>\n",
       "      <td>3268.000000</td>\n",
       "      <td>3268.000000</td>\n",
       "    </tr>\n",
       "    <tr>\n",
       "      <th>mean</th>\n",
       "      <td>6868.020196</td>\n",
       "      <td>6134.265606</td>\n",
       "      <td>26.875765</td>\n",
       "      <td>3.242105</td>\n",
       "      <td>40.551714</td>\n",
       "    </tr>\n",
       "    <tr>\n",
       "      <th>std</th>\n",
       "      <td>4724.659386</td>\n",
       "      <td>4293.247581</td>\n",
       "      <td>22.633487</td>\n",
       "      <td>1.428856</td>\n",
       "      <td>31.543491</td>\n",
       "    </tr>\n",
       "    <tr>\n",
       "      <th>min</th>\n",
       "      <td>0.000000</td>\n",
       "      <td>449.000000</td>\n",
       "      <td>0.000000</td>\n",
       "      <td>0.000000</td>\n",
       "      <td>0.000000</td>\n",
       "    </tr>\n",
       "    <tr>\n",
       "      <th>25%</th>\n",
       "      <td>4299.000000</td>\n",
       "      <td>2999.000000</td>\n",
       "      <td>0.000000</td>\n",
       "      <td>2.600000</td>\n",
       "      <td>10.000000</td>\n",
       "    </tr>\n",
       "    <tr>\n",
       "      <th>50%</th>\n",
       "      <td>5999.000000</td>\n",
       "      <td>4799.000000</td>\n",
       "      <td>40.000000</td>\n",
       "      <td>3.500000</td>\n",
       "      <td>37.000000</td>\n",
       "    </tr>\n",
       "    <tr>\n",
       "      <th>75%</th>\n",
       "      <td>8999.000000</td>\n",
       "      <td>7995.000000</td>\n",
       "      <td>50.000000</td>\n",
       "      <td>4.400000</td>\n",
       "      <td>68.000000</td>\n",
       "    </tr>\n",
       "    <tr>\n",
       "      <th>max</th>\n",
       "      <td>29999.000000</td>\n",
       "      <td>36500.000000</td>\n",
       "      <td>60.000000</td>\n",
       "      <td>5.000000</td>\n",
       "      <td>223.000000</td>\n",
       "    </tr>\n",
       "  </tbody>\n",
       "</table>\n",
       "</div>"
      ],
      "text/plain": [
       "       Listing Price    Sale Price     Discount       Rating      Reviews\n",
       "count    3268.000000   3268.000000  3268.000000  3268.000000  3268.000000\n",
       "mean     6868.020196   6134.265606    26.875765     3.242105    40.551714\n",
       "std      4724.659386   4293.247581    22.633487     1.428856    31.543491\n",
       "min         0.000000    449.000000     0.000000     0.000000     0.000000\n",
       "25%      4299.000000   2999.000000     0.000000     2.600000    10.000000\n",
       "50%      5999.000000   4799.000000    40.000000     3.500000    37.000000\n",
       "75%      8999.000000   7995.000000    50.000000     4.400000    68.000000\n",
       "max     29999.000000  36500.000000    60.000000     5.000000   223.000000"
      ]
     },
     "execution_count": 11,
     "metadata": {},
     "output_type": "execute_result"
    }
   ],
   "source": [
    "sneakers.describe()"
   ]
  },
  {
   "cell_type": "code",
   "execution_count": 12,
   "id": "1f086f32",
   "metadata": {},
   "outputs": [
    {
     "data": {
      "text/html": [
       "<div>\n",
       "<style scoped>\n",
       "    .dataframe tbody tr th:only-of-type {\n",
       "        vertical-align: middle;\n",
       "    }\n",
       "\n",
       "    .dataframe tbody tr th {\n",
       "        vertical-align: top;\n",
       "    }\n",
       "\n",
       "    .dataframe thead th {\n",
       "        text-align: right;\n",
       "    }\n",
       "</style>\n",
       "<table border=\"1\" class=\"dataframe\">\n",
       "  <thead>\n",
       "    <tr style=\"text-align: right;\">\n",
       "      <th></th>\n",
       "      <th>Product Name</th>\n",
       "      <th>Product ID</th>\n",
       "      <th>Brand</th>\n",
       "    </tr>\n",
       "  </thead>\n",
       "  <tbody>\n",
       "    <tr>\n",
       "      <th>count</th>\n",
       "      <td>3268</td>\n",
       "      <td>3268</td>\n",
       "      <td>3268</td>\n",
       "    </tr>\n",
       "    <tr>\n",
       "      <th>unique</th>\n",
       "      <td>1531</td>\n",
       "      <td>3179</td>\n",
       "      <td>5</td>\n",
       "    </tr>\n",
       "    <tr>\n",
       "      <th>top</th>\n",
       "      <td>Women's adidas Originals Sambarose Shoes</td>\n",
       "      <td>CD6720-808</td>\n",
       "      <td>Adidas CORE / NEO</td>\n",
       "    </tr>\n",
       "    <tr>\n",
       "      <th>freq</th>\n",
       "      <td>16</td>\n",
       "      <td>3</td>\n",
       "      <td>1111</td>\n",
       "    </tr>\n",
       "  </tbody>\n",
       "</table>\n",
       "</div>"
      ],
      "text/plain": [
       "                                    Product Name  Product ID  \\\n",
       "count                                       3268        3268   \n",
       "unique                                      1531        3179   \n",
       "top     Women's adidas Originals Sambarose Shoes  CD6720-808   \n",
       "freq                                          16           3   \n",
       "\n",
       "                    Brand  \n",
       "count                3268  \n",
       "unique                  5  \n",
       "top     Adidas CORE / NEO  \n",
       "freq                 1111  "
      ]
     },
     "execution_count": 12,
     "metadata": {},
     "output_type": "execute_result"
    }
   ],
   "source": [
    "sneakers.describe(include = 'object')"
   ]
  },
  {
   "cell_type": "code",
   "execution_count": 13,
   "id": "5c9c066c",
   "metadata": {},
   "outputs": [
    {
     "data": {
      "text/plain": [
       "Product Name     0\n",
       "Product ID       0\n",
       "Listing Price    0\n",
       "Sale Price       0\n",
       "Discount         0\n",
       "Brand            0\n",
       "Rating           0\n",
       "Reviews          0\n",
       "dtype: int64"
      ]
     },
     "execution_count": 13,
     "metadata": {},
     "output_type": "execute_result"
    }
   ],
   "source": [
    "sneakers.isnull().sum()"
   ]
  },
  {
   "cell_type": "code",
   "execution_count": 14,
   "id": "eda8a6c8",
   "metadata": {},
   "outputs": [
    {
     "name": "stdout",
     "output_type": "stream",
     "text": [
      "Product Name     88\n",
      "Product ID       88\n",
      "Listing Price    88\n",
      "Sale Price       88\n",
      "Discount         88\n",
      "Brand            88\n",
      "Rating           88\n",
      "Reviews          88\n",
      "dtype: int64\n"
     ]
    }
   ],
   "source": [
    "# Find and display all duplicated rows in the sneakers dataset\n",
    "duplicate_rows = sneakers[sneakers.duplicated()].count()\n",
    "print(duplicate_rows)"
   ]
  },
  {
   "cell_type": "code",
   "execution_count": 15,
   "id": "9595c5a4",
   "metadata": {},
   "outputs": [],
   "source": [
    "sneakers.drop_duplicates(inplace=True, ignore_index=True)"
   ]
  },
  {
   "cell_type": "code",
   "execution_count": 16,
   "id": "b814db6f",
   "metadata": {},
   "outputs": [
    {
     "data": {
      "text/plain": [
       "Product Name     0\n",
       "Product ID       0\n",
       "Listing Price    0\n",
       "Sale Price       0\n",
       "Discount         0\n",
       "Brand            0\n",
       "Rating           0\n",
       "Reviews          0\n",
       "dtype: int64"
      ]
     },
     "execution_count": 16,
     "metadata": {},
     "output_type": "execute_result"
    }
   ],
   "source": [
    "sneakers[sneakers.duplicated()].count()"
   ]
  },
  {
   "cell_type": "markdown",
   "id": "f21ece78",
   "metadata": {},
   "source": [
    "### B) Univariate, Bivariate, Multivariate Analyses"
   ]
  },
  {
   "cell_type": "markdown",
   "id": "bea2f248",
   "metadata": {},
   "source": [
    "#### Univariate Visualization"
   ]
  },
  {
   "cell_type": "markdown",
   "id": "69651d03",
   "metadata": {},
   "source": [
    "### C) Visualization\n",
    "- For this section, you will create graphs including the correlation heatmap and the pairplot.\n",
    "    - Correlation Heatmap (Andrew)"
   ]
  },
  {
   "cell_type": "markdown",
   "id": "20fbf947",
   "metadata": {},
   "source": [
    "**Heatmap**"
   ]
  },
  {
   "cell_type": "code",
   "execution_count": 17,
   "id": "d7b62795",
   "metadata": {},
   "outputs": [
    {
     "data": {
      "text/plain": [
       "Product Name      object\n",
       "Product ID        object\n",
       "Listing Price      int64\n",
       "Sale Price         int64\n",
       "Discount           int64\n",
       "Brand             object\n",
       "Rating           float64\n",
       "Reviews            int64\n",
       "dtype: object"
      ]
     },
     "execution_count": 17,
     "metadata": {},
     "output_type": "execute_result"
    }
   ],
   "source": [
    "sneakers.dtypes"
   ]
  },
  {
   "cell_type": "code",
   "execution_count": 18,
   "id": "9512b896",
   "metadata": {},
   "outputs": [
    {
     "data": {
      "text/html": [
       "<div>\n",
       "<style scoped>\n",
       "    .dataframe tbody tr th:only-of-type {\n",
       "        vertical-align: middle;\n",
       "    }\n",
       "\n",
       "    .dataframe tbody tr th {\n",
       "        vertical-align: top;\n",
       "    }\n",
       "\n",
       "    .dataframe thead th {\n",
       "        text-align: right;\n",
       "    }\n",
       "</style>\n",
       "<table border=\"1\" class=\"dataframe\">\n",
       "  <thead>\n",
       "    <tr style=\"text-align: right;\">\n",
       "      <th></th>\n",
       "      <th>Listing Price</th>\n",
       "      <th>Sale Price</th>\n",
       "      <th>Discount</th>\n",
       "      <th>Rating</th>\n",
       "      <th>Reviews</th>\n",
       "    </tr>\n",
       "  </thead>\n",
       "  <tbody>\n",
       "    <tr>\n",
       "      <th>0</th>\n",
       "      <td>14999</td>\n",
       "      <td>7499</td>\n",
       "      <td>50</td>\n",
       "      <td>4.8</td>\n",
       "      <td>41</td>\n",
       "    </tr>\n",
       "    <tr>\n",
       "      <th>1</th>\n",
       "      <td>7599</td>\n",
       "      <td>3799</td>\n",
       "      <td>50</td>\n",
       "      <td>3.3</td>\n",
       "      <td>24</td>\n",
       "    </tr>\n",
       "    <tr>\n",
       "      <th>2</th>\n",
       "      <td>999</td>\n",
       "      <td>599</td>\n",
       "      <td>40</td>\n",
       "      <td>2.6</td>\n",
       "      <td>37</td>\n",
       "    </tr>\n",
       "    <tr>\n",
       "      <th>3</th>\n",
       "      <td>6999</td>\n",
       "      <td>3499</td>\n",
       "      <td>50</td>\n",
       "      <td>4.1</td>\n",
       "      <td>35</td>\n",
       "    </tr>\n",
       "    <tr>\n",
       "      <th>4</th>\n",
       "      <td>7999</td>\n",
       "      <td>3999</td>\n",
       "      <td>50</td>\n",
       "      <td>3.5</td>\n",
       "      <td>72</td>\n",
       "    </tr>\n",
       "  </tbody>\n",
       "</table>\n",
       "</div>"
      ],
      "text/plain": [
       "   Listing Price  Sale Price  Discount  Rating  Reviews\n",
       "0          14999        7499        50     4.8       41\n",
       "1           7599        3799        50     3.3       24\n",
       "2            999         599        40     2.6       37\n",
       "3           6999        3499        50     4.1       35\n",
       "4           7999        3999        50     3.5       72"
      ]
     },
     "execution_count": 18,
     "metadata": {},
     "output_type": "execute_result"
    }
   ],
   "source": [
    "numb_col = sneakers[['Listing Price', 'Sale Price', 'Discount', 'Rating', 'Reviews']]\n",
    "numb_col.head()"
   ]
  },
  {
   "cell_type": "code",
   "execution_count": 19,
   "id": "c4a6306d",
   "metadata": {},
   "outputs": [
    {
     "data": {
      "text/html": [
       "<div>\n",
       "<style scoped>\n",
       "    .dataframe tbody tr th:only-of-type {\n",
       "        vertical-align: middle;\n",
       "    }\n",
       "\n",
       "    .dataframe tbody tr th {\n",
       "        vertical-align: top;\n",
       "    }\n",
       "\n",
       "    .dataframe thead th {\n",
       "        text-align: right;\n",
       "    }\n",
       "</style>\n",
       "<table border=\"1\" class=\"dataframe\">\n",
       "  <thead>\n",
       "    <tr style=\"text-align: right;\">\n",
       "      <th></th>\n",
       "      <th>Listing Price</th>\n",
       "      <th>Sale Price</th>\n",
       "      <th>Discount</th>\n",
       "      <th>Rating</th>\n",
       "      <th>Reviews</th>\n",
       "    </tr>\n",
       "  </thead>\n",
       "  <tbody>\n",
       "    <tr>\n",
       "      <th>Listing Price</th>\n",
       "      <td>1.000000</td>\n",
       "      <td>0.365871</td>\n",
       "      <td>0.098878</td>\n",
       "      <td>0.083587</td>\n",
       "      <td>0.137744</td>\n",
       "    </tr>\n",
       "    <tr>\n",
       "      <th>Sale Price</th>\n",
       "      <td>0.365871</td>\n",
       "      <td>1.000000</td>\n",
       "      <td>-0.598524</td>\n",
       "      <td>-0.043417</td>\n",
       "      <td>-0.228735</td>\n",
       "    </tr>\n",
       "    <tr>\n",
       "      <th>Discount</th>\n",
       "      <td>0.098878</td>\n",
       "      <td>-0.598524</td>\n",
       "      <td>1.000000</td>\n",
       "      <td>0.064803</td>\n",
       "      <td>0.287762</td>\n",
       "    </tr>\n",
       "    <tr>\n",
       "      <th>Rating</th>\n",
       "      <td>0.083587</td>\n",
       "      <td>-0.043417</td>\n",
       "      <td>0.064803</td>\n",
       "      <td>1.000000</td>\n",
       "      <td>0.122349</td>\n",
       "    </tr>\n",
       "    <tr>\n",
       "      <th>Reviews</th>\n",
       "      <td>0.137744</td>\n",
       "      <td>-0.228735</td>\n",
       "      <td>0.287762</td>\n",
       "      <td>0.122349</td>\n",
       "      <td>1.000000</td>\n",
       "    </tr>\n",
       "  </tbody>\n",
       "</table>\n",
       "</div>"
      ],
      "text/plain": [
       "               Listing Price  Sale Price  Discount    Rating   Reviews\n",
       "Listing Price       1.000000    0.365871  0.098878  0.083587  0.137744\n",
       "Sale Price          0.365871    1.000000 -0.598524 -0.043417 -0.228735\n",
       "Discount            0.098878   -0.598524  1.000000  0.064803  0.287762\n",
       "Rating              0.083587   -0.043417  0.064803  1.000000  0.122349\n",
       "Reviews             0.137744   -0.228735  0.287762  0.122349  1.000000"
      ]
     },
     "execution_count": 19,
     "metadata": {},
     "output_type": "execute_result"
    }
   ],
   "source": [
    "numb_col.corr()"
   ]
  },
  {
   "cell_type": "code",
   "execution_count": 20,
   "id": "ea58e445",
   "metadata": {},
   "outputs": [
    {
     "data": {
      "image/png": "[encoded data removed]",
      "text/plain": [
       "<Figure size 1200x800 with 2 Axes>"
      ]
     },
     "metadata": {},
     "output_type": "display_data"
    }
   ],
   "source": [
    "# setting the plot size\n",
    "plt.figure(figsize=(12, 8))\n",
    "\n",
    "# creating the heatmap and color coding\n",
    "sns.heatmap(numb_col.corr(), cmap='RdYlGn', annot=True);"
   ]
  },
  {
   "cell_type": "markdown",
   "id": "f44d792b",
   "metadata": {},
   "source": [
    "### D) EDA Summary"
   ]
  },
  {
   "cell_type": "markdown",
   "id": "60c28bca",
   "metadata": {},
   "source": [
    "# Step 5: Answering the Mining Questions"
   ]
  },
  {
   "cell_type": "markdown",
   "id": "8de05d2b",
   "metadata": {},
   "source": [
    "- **Answer all questions here (after each question).**\n",
    "\n",
    "- **Kaylee**\n",
    "1. What is the shape of the dataset? The Shape of the dataset is (3268, 8).\n",
    "2. Are there any missing values in this dataset? There are **no** missing values in this dataset.\n",
    "3. List all 8 columns' dtypes.\n",
    "     - Product Name -- object\n",
    "     - Product ID -- object\n",
    "     - Listing Price -- int64\n",
    "     - Sale Price -- int64\n",
    "     - Discount -- int64\n",
    "     - Brand -- object\n",
    "     - Rating -- float64\n",
    "     - Reviews -- int64\n",
    "4. Are there any duplicated rows (observations) in this dataset? There are 88 rows of duplicates in this dataset.\n",
    "5. Refer to the statistical summary of the dataset and answer the following:\n",
    "     - The average listing price: 6868\n",
    "     - The average sale price: 6134.2\n",
    "     - The average discount: 22.6\n",
    "     - The average rating: 3.2\n",
    "     - The average number of reviews: 40.5\n",
    "\n",
    "- **Tales**\n",
    "6. Which \"Brand\" has the highest number of products in this dataset?\n",
    "7. As you can see, the \"Listing Price\" for some products is zero (0). How many products with zero listing price are there in this dataset?\n",
    "8. Perform the \"Univariate EDA\", and examine any type of skewness (outliers) for all the variables.\n",
    "9. The the percentage for the following:\n",
    "     - Products with listing prices less than 15000\n",
    "     - Products with sale price less than 15000\n",
    "     - Products with at least 50% discount\n",
    "     - Products with rating less than 3.5\n",
    "     - Products with review numbers less than 100\n",
    "     - The 3 highest percentages of the discount graph\n",
    "\n",
    "- **Andrew**\n",
    "10. Perform the \"Bivariate EDA\", and examine the following:\n",
    "     - The two highly positively correlated variables:\n",
    "     - The two highly negatively correlated variables: <code>'Discount' and 'Sale Price'</code>\n",
    "11. What are the names of the 10 highest rated products?\n",
    "12. What are the 10 products' names with the highest number of reviews?\n",
    "13. Which company gives more discount: Adidas or Nike?"
   ]
  },
  {
   "cell_type": "markdown",
   "id": "0977ad97",
   "metadata": {},
   "source": [
    "# Step 6: Conclusion \n",
    "- For the conclusion, please provide 10 insights gained from completing this project."
   ]
  }
 ],
 "metadata": {
  "kernelspec": {
   "display_name": "base",
   "language": "python",
   "name": "python3"
  },
  "language_info": {
   "codemirror_mode": {
    "name": "ipython",
    "version": 3
   },
   "file_extension": ".py",
   "mimetype": "text/x-python",
   "name": "python",
   "nbconvert_exporter": "python",
   "pygments_lexer": "ipython3",
   "version": "3.11.7"
  }
 },
 "nbformat": 4,
 "nbformat_minor": 5
}
