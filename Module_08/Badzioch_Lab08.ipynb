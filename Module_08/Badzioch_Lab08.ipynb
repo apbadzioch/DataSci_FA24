{
 "cells": [
  {
   "metadata": {},
   "cell_type": "markdown",
   "source": "# Lab 08 - Missing Values - Andrew Badzioch",
   "id": "f9df237af90e1c4b"
  },
  {
   "metadata": {},
   "cell_type": "markdown",
   "source": [
    "#### Notes:\n",
    "2. analyze data for presentation\n",
    "2. complete analysis for data mining\n",
    "3. prepare data for more complex things: Ml, DL, Comp Vision, NLP, LLM (GenAI)\n",
    "    - cannot use data with missing values  \n",
    "- Data Preprocessing"
   ],
   "id": "2d5382de9a5f7988"
  },
  {
   "metadata": {},
   "cell_type": "markdown",
   "source": [
    "- What are missing values in a dataset?\n",
    "1. the real-world data is rarelt clean or homogeneous.\n",
    "2. most of the real datasets contain missing values.\n",
    "3. missing values are the values that are wither not collected ot non-existent.\n",
    "4. the general term for missing values is NA (not available)\n",
    "5. NA can be null, None, or NaN:\n",
    "    - null: any piece of data that is not defined\n",
    "    - None: any Python object that is missing in a code\n",
    "    - NaN: not a number, indicating the missing value is a numeric dtype according to NumPy library\n",
    "6. the most known missing values are in the NaN format"
   ],
   "id": "e303e90b06fc9abb"
  },
  {
   "metadata": {
    "ExecuteTime": {
     "end_time": "2024-10-23T20:40:17.371129Z",
     "start_time": "2024-10-23T20:40:17.367712Z"
    }
   },
   "cell_type": "code",
   "source": [
    "# let's check out none\n",
    "a = None"
   ],
   "id": "a7e8718a926d52d1",
   "outputs": [],
   "execution_count": 15
  },
  {
   "metadata": {
    "ExecuteTime": {
     "end_time": "2024-10-23T20:40:17.386292Z",
     "start_time": "2024-10-23T20:40:17.382432Z"
    }
   },
   "cell_type": "code",
   "source": "type(a)",
   "id": "66113c9e3ce5ae6d",
   "outputs": [
    {
     "data": {
      "text/plain": [
       "NoneType"
      ]
     },
     "execution_count": 16,
     "metadata": {},
     "output_type": "execute_result"
    }
   ],
   "execution_count": 16
  },
  {
   "metadata": {
    "ExecuteTime": {
     "end_time": "2024-10-23T20:40:17.416719Z",
     "start_time": "2024-10-23T20:40:17.414470Z"
    }
   },
   "cell_type": "code",
   "source": "print(a)",
   "id": "29a02dbaa50e6416",
   "outputs": [
    {
     "name": "stdout",
     "output_type": "stream",
     "text": [
      "None\n"
     ]
    }
   ],
   "execution_count": 17
  },
  {
   "metadata": {
    "ExecuteTime": {
     "end_time": "2024-10-23T20:40:17.446303Z",
     "start_time": "2024-10-23T20:40:17.441934Z"
    }
   },
   "cell_type": "code",
   "source": [
    "# let's see if we can use None as a value\n",
    "b = np.array([2, 'Andy', None, 5])\n",
    "b"
   ],
   "id": "fe3e68fb7d5bd213",
   "outputs": [
    {
     "data": {
      "text/plain": [
       "array([2, 'Andy', None, 5], dtype=object)"
      ]
     },
     "execution_count": 18,
     "metadata": {},
     "output_type": "execute_result"
    }
   ],
   "execution_count": 18
  },
  {
   "metadata": {
    "ExecuteTime": {
     "end_time": "2024-10-23T20:40:17.475858Z",
     "start_time": "2024-10-23T20:40:17.472917Z"
    }
   },
   "cell_type": "code",
   "source": [
    "# let's check out Nan in both NumPy and pandas\n",
    "c = np.array([6, 9, np.nan, 10])\n",
    "c"
   ],
   "id": "6c444e5575f0e187",
   "outputs": [
    {
     "data": {
      "text/plain": [
       "array([ 6.,  9., nan, 10.])"
      ]
     },
     "execution_count": 19,
     "metadata": {},
     "output_type": "execute_result"
    }
   ],
   "execution_count": 19
  },
  {
   "metadata": {
    "ExecuteTime": {
     "end_time": "2024-10-23T20:40:17.495818Z",
     "start_time": "2024-10-23T20:40:17.491894Z"
    }
   },
   "cell_type": "code",
   "source": [
    "d = pd.Series([3, None, 7, np.nan])\n",
    "d"
   ],
   "id": "9c9ed944a0317728",
   "outputs": [
    {
     "data": {
      "text/plain": [
       "0    3.0\n",
       "1    NaN\n",
       "2    7.0\n",
       "3    NaN\n",
       "dtype: float64"
      ]
     },
     "execution_count": 20,
     "metadata": {},
     "output_type": "execute_result"
    }
   ],
   "execution_count": 20
  },
  {
   "metadata": {},
   "cell_type": "markdown",
   "source": "### Importing Libraries",
   "id": "e1ebf0ed7e21d22f"
  },
  {
   "metadata": {
    "ExecuteTime": {
     "end_time": "2024-10-23T20:40:17.527588Z",
     "start_time": "2024-10-23T20:40:17.525581Z"
    }
   },
   "cell_type": "code",
   "source": [
    "# general libraries\n",
    "import numpy as np\n",
    "import pandas as pd\n",
    "import os\n",
    "import math\n",
    "\n",
    "# data visualization libraries\n",
    "import matplotlib.pyplot as plt\n",
    "import seaborn as sns\n",
    "\n",
    "# suppressing warnings\n",
    "import warnings\n",
    "warnings.filterwarnings('ignore')"
   ],
   "id": "ccb36bfbdd0a5a27",
   "outputs": [],
   "execution_count": 21
  },
  {
   "metadata": {},
   "cell_type": "markdown",
   "source": "### Load the Dataset",
   "id": "9b4a1f9c5832bf20"
  },
  {
   "metadata": {
    "ExecuteTime": {
     "end_time": "2024-10-23T20:40:17.567947Z",
     "start_time": "2024-10-23T20:40:17.558352Z"
    }
   },
   "cell_type": "code",
   "source": "df = pd.read_csv('titanic_dataset.csv')",
   "id": "4d0efc4225c15f46",
   "outputs": [],
   "execution_count": 22
  },
  {
   "metadata": {
    "ExecuteTime": {
     "end_time": "2024-10-23T20:40:17.597560Z",
     "start_time": "2024-10-23T20:40:17.595304Z"
    }
   },
   "cell_type": "code",
   "source": [
    "# copy dataset\n",
    "titanic = df.copy()"
   ],
   "id": "1947ebf2460e3f88",
   "outputs": [],
   "execution_count": 23
  },
  {
   "metadata": {
    "ExecuteTime": {
     "end_time": "2024-10-23T20:40:17.615213Z",
     "start_time": "2024-10-23T20:40:17.608173Z"
    }
   },
   "cell_type": "code",
   "source": [
    "# checking the dataset load\n",
    "titanic.head()"
   ],
   "id": "cf7ce828cfd96fff",
   "outputs": [
    {
     "data": {
      "text/plain": [
       "   PassengerId  Survived  Pclass  \\\n",
       "0            1         0       3   \n",
       "1            2         1       1   \n",
       "2            3         1       3   \n",
       "3            4         1       1   \n",
       "4            5         0       3   \n",
       "\n",
       "                                                Name     Sex   Age  SibSp  \\\n",
       "0                            Braund, Mr. Owen Harris    male  22.0      1   \n",
       "1  Cumings, Mrs. John Bradley (Florence Briggs Th...  female  38.0      1   \n",
       "2                             Heikkinen, Miss. Laina  female  26.0      0   \n",
       "3       Futrelle, Mrs. Jacques Heath (Lily May Peel)  female  35.0      1   \n",
       "4                           Allen, Mr. William Henry    male  35.0      0   \n",
       "\n",
       "   Parch            Ticket     Fare Cabin Embarked  \n",
       "0      0         A/5 21171   7.2500   NaN        S  \n",
       "1      0          PC 17599  71.2833   C85        C  \n",
       "2      0  STON/O2. 3101282   7.9250   NaN        S  \n",
       "3      0            113803  53.1000  C123        S  \n",
       "4      0            373450   8.0500   NaN        S  "
      ],
      "text/html": [
       "<div>\n",
       "<style scoped>\n",
       "    .dataframe tbody tr th:only-of-type {\n",
       "        vertical-align: middle;\n",
       "    }\n",
       "\n",
       "    .dataframe tbody tr th {\n",
       "        vertical-align: top;\n",
       "    }\n",
       "\n",
       "    .dataframe thead th {\n",
       "        text-align: right;\n",
       "    }\n",
       "</style>\n",
       "<table border=\"1\" class=\"dataframe\">\n",
       "  <thead>\n",
       "    <tr style=\"text-align: right;\">\n",
       "      <th></th>\n",
       "      <th>PassengerId</th>\n",
       "      <th>Survived</th>\n",
       "      <th>Pclass</th>\n",
       "      <th>Name</th>\n",
       "      <th>Sex</th>\n",
       "      <th>Age</th>\n",
       "      <th>SibSp</th>\n",
       "      <th>Parch</th>\n",
       "      <th>Ticket</th>\n",
       "      <th>Fare</th>\n",
       "      <th>Cabin</th>\n",
       "      <th>Embarked</th>\n",
       "    </tr>\n",
       "  </thead>\n",
       "  <tbody>\n",
       "    <tr>\n",
       "      <th>0</th>\n",
       "      <td>1</td>\n",
       "      <td>0</td>\n",
       "      <td>3</td>\n",
       "      <td>Braund, Mr. Owen Harris</td>\n",
       "      <td>male</td>\n",
       "      <td>22.0</td>\n",
       "      <td>1</td>\n",
       "      <td>0</td>\n",
       "      <td>A/5 21171</td>\n",
       "      <td>7.2500</td>\n",
       "      <td>NaN</td>\n",
       "      <td>S</td>\n",
       "    </tr>\n",
       "    <tr>\n",
       "      <th>1</th>\n",
       "      <td>2</td>\n",
       "      <td>1</td>\n",
       "      <td>1</td>\n",
       "      <td>Cumings, Mrs. John Bradley (Florence Briggs Th...</td>\n",
       "      <td>female</td>\n",
       "      <td>38.0</td>\n",
       "      <td>1</td>\n",
       "      <td>0</td>\n",
       "      <td>PC 17599</td>\n",
       "      <td>71.2833</td>\n",
       "      <td>C85</td>\n",
       "      <td>C</td>\n",
       "    </tr>\n",
       "    <tr>\n",
       "      <th>2</th>\n",
       "      <td>3</td>\n",
       "      <td>1</td>\n",
       "      <td>3</td>\n",
       "      <td>Heikkinen, Miss. Laina</td>\n",
       "      <td>female</td>\n",
       "      <td>26.0</td>\n",
       "      <td>0</td>\n",
       "      <td>0</td>\n",
       "      <td>STON/O2. 3101282</td>\n",
       "      <td>7.9250</td>\n",
       "      <td>NaN</td>\n",
       "      <td>S</td>\n",
       "    </tr>\n",
       "    <tr>\n",
       "      <th>3</th>\n",
       "      <td>4</td>\n",
       "      <td>1</td>\n",
       "      <td>1</td>\n",
       "      <td>Futrelle, Mrs. Jacques Heath (Lily May Peel)</td>\n",
       "      <td>female</td>\n",
       "      <td>35.0</td>\n",
       "      <td>1</td>\n",
       "      <td>0</td>\n",
       "      <td>113803</td>\n",
       "      <td>53.1000</td>\n",
       "      <td>C123</td>\n",
       "      <td>S</td>\n",
       "    </tr>\n",
       "    <tr>\n",
       "      <th>4</th>\n",
       "      <td>5</td>\n",
       "      <td>0</td>\n",
       "      <td>3</td>\n",
       "      <td>Allen, Mr. William Henry</td>\n",
       "      <td>male</td>\n",
       "      <td>35.0</td>\n",
       "      <td>0</td>\n",
       "      <td>0</td>\n",
       "      <td>373450</td>\n",
       "      <td>8.0500</td>\n",
       "      <td>NaN</td>\n",
       "      <td>S</td>\n",
       "    </tr>\n",
       "  </tbody>\n",
       "</table>\n",
       "</div>"
      ]
     },
     "execution_count": 24,
     "metadata": {},
     "output_type": "execute_result"
    }
   ],
   "execution_count": 24
  },
  {
   "metadata": {},
   "cell_type": "markdown",
   "source": [
    "#### EDA\n",
    "- attributes"
   ],
   "id": "98e7f4380aea8116"
  },
  {
   "metadata": {
    "ExecuteTime": {
     "end_time": "2024-10-23T20:40:17.658216Z",
     "start_time": "2024-10-23T20:40:17.652911Z"
    }
   },
   "cell_type": "code",
   "source": [
    "# basic data exploration: attributes\n",
    "# examine missing values\n",
    "titanic.isnull().sum()"
   ],
   "id": "69d88a74a2a7d0ae",
   "outputs": [
    {
     "data": {
      "text/plain": [
       "PassengerId      0\n",
       "Survived         0\n",
       "Pclass           0\n",
       "Name             0\n",
       "Sex              0\n",
       "Age            177\n",
       "SibSp            0\n",
       "Parch            0\n",
       "Ticket           0\n",
       "Fare             0\n",
       "Cabin          687\n",
       "Embarked         2\n",
       "dtype: int64"
      ]
     },
     "execution_count": 25,
     "metadata": {},
     "output_type": "execute_result"
    }
   ],
   "execution_count": 25
  },
  {
   "metadata": {
    "ExecuteTime": {
     "end_time": "2024-10-23T20:40:17.718396Z",
     "start_time": "2024-10-23T20:40:17.699453Z"
    }
   },
   "cell_type": "code",
   "source": "",
   "id": "9602b293359c1d9e",
   "outputs": [],
   "execution_count": null
  }
 ],
 "metadata": {
  "kernelspec": {
   "display_name": "Python 3",
   "language": "python",
   "name": "python3"
  },
  "language_info": {
   "codemirror_mode": {
    "name": "ipython",
    "version": 2
   },
   "file_extension": ".py",
   "mimetype": "text/x-python",
   "name": "python",
   "nbconvert_exporter": "python",
   "pygments_lexer": "ipython2",
   "version": "2.7.6"
  }
 },
 "nbformat": 4,
 "nbformat_minor": 5
}
