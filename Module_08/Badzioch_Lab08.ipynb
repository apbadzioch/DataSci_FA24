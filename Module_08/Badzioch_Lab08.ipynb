{
 "cells": [
  {
   "cell_type": "markdown",
   "id": "f9df237af90e1c4b",
   "metadata": {},
   "source": [
    "# Lab 08 - Missing Values - Andrew Badzioch"
   ]
  },
  {
   "cell_type": "markdown",
   "id": "2d5382de9a5f7988",
   "metadata": {},
   "source": [
    "#### Notes:\n",
    "- analyze data for presentation\n",
    "- complete analysis for data mining\n",
    "- prepare data for more complex things: Ml, DL, Comp Vision, NLP, LLM (GenAI)\n",
    "    - cannot use data with missing values  \n",
    "- Data Preprocessing"
   ]
  },
  {
   "cell_type": "markdown",
   "id": "e303e90b06fc9abb",
   "metadata": {},
   "source": [
    "- What are missing values in a dataset?\n",
    "1. the real-world data is rarelt clean or homogeneous.\n",
    "2. most of the real datasets contain missing values.\n",
    "3. missing values are the values that are either not collected or non-existent.\n",
    "4. the general term for missing values is NA (not available)\n",
    "5. NA can be null, None, or NaN:\n",
    "    - null: any piece of data that is not defined\n",
    "    - None: any Python object that is missing in a code\n",
    "    - NaN: not a number, indicating the missing value is a numeric dtype according to NumPy library\n",
    "6. the most known missing values are in the NaN format"
   ]
  },
  {
   "cell_type": "code",
   "execution_count": 1,
   "id": "24bec55f",
   "metadata": {},
   "outputs": [],
   "source": [
    "# general libraries\n",
    "import numpy as np\n",
    "import pandas as pd\n",
    "import os\n",
    "import math\n",
    "\n",
    "# data visualization libraries\n",
    "import matplotlib.pyplot as plt\n",
    "import seaborn as sns\n",
    "\n",
    "# suppressing warnings\n",
    "import warnings\n",
    "warnings.filterwarnings('ignore')"
   ]
  },
  {
   "cell_type": "code",
   "execution_count": 2,
   "id": "a7e8718a926d52d1",
   "metadata": {
    "ExecuteTime": {
     "end_time": "2024-10-23T20:40:17.371129Z",
     "start_time": "2024-10-23T20:40:17.367712Z"
    }
   },
   "outputs": [],
   "source": [
    "# let's check out none\n",
    "a = None"
   ]
  },
  {
   "cell_type": "code",
   "execution_count": 3,
   "id": "66113c9e3ce5ae6d",
   "metadata": {
    "ExecuteTime": {
     "end_time": "2024-10-23T20:40:17.386292Z",
     "start_time": "2024-10-23T20:40:17.382432Z"
    }
   },
   "outputs": [
    {
     "data": {
      "text/plain": [
       "NoneType"
      ]
     },
     "execution_count": 3,
     "metadata": {},
     "output_type": "execute_result"
    }
   ],
   "source": [
    "type(a)"
   ]
  },
  {
   "cell_type": "code",
   "execution_count": 4,
   "id": "29a02dbaa50e6416",
   "metadata": {
    "ExecuteTime": {
     "end_time": "2024-10-23T20:40:17.416719Z",
     "start_time": "2024-10-23T20:40:17.414470Z"
    }
   },
   "outputs": [
    {
     "name": "stdout",
     "output_type": "stream",
     "text": [
      "None\n"
     ]
    }
   ],
   "source": [
    "print(a)"
   ]
  },
  {
   "cell_type": "code",
   "execution_count": 5,
   "id": "fe3e68fb7d5bd213",
   "metadata": {
    "ExecuteTime": {
     "end_time": "2024-10-23T20:40:17.446303Z",
     "start_time": "2024-10-23T20:40:17.441934Z"
    }
   },
   "outputs": [
    {
     "data": {
      "text/plain": [
       "array([2, 'Andy', None, 5], dtype=object)"
      ]
     },
     "execution_count": 5,
     "metadata": {},
     "output_type": "execute_result"
    }
   ],
   "source": [
    "# let's see if we can use None as a value\n",
    "b = np.array([2, 'Andy', None, 5])\n",
    "b"
   ]
  },
  {
   "cell_type": "code",
   "execution_count": 6,
   "id": "6c444e5575f0e187",
   "metadata": {
    "ExecuteTime": {
     "end_time": "2024-10-23T20:40:17.475858Z",
     "start_time": "2024-10-23T20:40:17.472917Z"
    }
   },
   "outputs": [
    {
     "data": {
      "text/plain": [
       "array([ 6.,  9., nan, 10.])"
      ]
     },
     "execution_count": 6,
     "metadata": {},
     "output_type": "execute_result"
    }
   ],
   "source": [
    "# let's check out Nan in both NumPy and pandas\n",
    "c = np.array([6, 9, np.nan, 10])\n",
    "c"
   ]
  },
  {
   "cell_type": "code",
   "execution_count": 7,
   "id": "9c9ed944a0317728",
   "metadata": {
    "ExecuteTime": {
     "end_time": "2024-10-23T20:40:17.495818Z",
     "start_time": "2024-10-23T20:40:17.491894Z"
    }
   },
   "outputs": [
    {
     "data": {
      "text/plain": [
       "0    3.0\n",
       "1    NaN\n",
       "2    7.0\n",
       "3    NaN\n",
       "dtype: float64"
      ]
     },
     "execution_count": 7,
     "metadata": {},
     "output_type": "execute_result"
    }
   ],
   "source": [
    "d = pd.Series([3, None, 7, np.nan])\n",
    "d"
   ]
  },
  {
   "cell_type": "markdown",
   "id": "e1ebf0ed7e21d22f",
   "metadata": {},
   "source": [
    "### Importing Libraries"
   ]
  },
  {
   "cell_type": "code",
   "execution_count": 8,
   "id": "ccb36bfbdd0a5a27",
   "metadata": {
    "ExecuteTime": {
     "end_time": "2024-10-23T20:40:17.527588Z",
     "start_time": "2024-10-23T20:40:17.525581Z"
    }
   },
   "outputs": [],
   "source": [
    "# general libraries\n",
    "# import numpy as np\n",
    "# import pandas as pd\n",
    "# import os\n",
    "# import math\n",
    "\n",
    "# data visualization libraries\n",
    "# import matplotlib.pyplot as plt\n",
    "# import seaborn as sns\n",
    "\n",
    "# suppressing warnings\n",
    "# import warnings\n",
    "# warnings.filterwarnings('ignore')"
   ]
  },
  {
   "cell_type": "markdown",
   "id": "9b4a1f9c5832bf20",
   "metadata": {},
   "source": [
    "### Load the Dataset"
   ]
  },
  {
   "cell_type": "code",
   "execution_count": 9,
   "id": "4d0efc4225c15f46",
   "metadata": {
    "ExecuteTime": {
     "end_time": "2024-10-23T20:40:17.567947Z",
     "start_time": "2024-10-23T20:40:17.558352Z"
    }
   },
   "outputs": [],
   "source": [
    "df = pd.read_csv('titanic_dataset.csv')"
   ]
  },
  {
   "cell_type": "code",
   "execution_count": 10,
   "id": "1947ebf2460e3f88",
   "metadata": {
    "ExecuteTime": {
     "end_time": "2024-10-23T20:40:17.597560Z",
     "start_time": "2024-10-23T20:40:17.595304Z"
    }
   },
   "outputs": [],
   "source": [
    "# copy dataset\n",
    "titanic = df.copy()"
   ]
  },
  {
   "cell_type": "code",
   "execution_count": 11,
   "id": "cf7ce828cfd96fff",
   "metadata": {
    "ExecuteTime": {
     "end_time": "2024-10-23T20:40:17.615213Z",
     "start_time": "2024-10-23T20:40:17.608173Z"
    }
   },
   "outputs": [
    {
     "data": {
      "text/html": [
       "<div>\n",
       "<style scoped>\n",
       "    .dataframe tbody tr th:only-of-type {\n",
       "        vertical-align: middle;\n",
       "    }\n",
       "\n",
       "    .dataframe tbody tr th {\n",
       "        vertical-align: top;\n",
       "    }\n",
       "\n",
       "    .dataframe thead th {\n",
       "        text-align: right;\n",
       "    }\n",
       "</style>\n",
       "<table border=\"1\" class=\"dataframe\">\n",
       "  <thead>\n",
       "    <tr style=\"text-align: right;\">\n",
       "      <th></th>\n",
       "      <th>PassengerId</th>\n",
       "      <th>Survived</th>\n",
       "      <th>Pclass</th>\n",
       "      <th>Name</th>\n",
       "      <th>Sex</th>\n",
       "      <th>Age</th>\n",
       "      <th>SibSp</th>\n",
       "      <th>Parch</th>\n",
       "      <th>Ticket</th>\n",
       "      <th>Fare</th>\n",
       "      <th>Cabin</th>\n",
       "      <th>Embarked</th>\n",
       "    </tr>\n",
       "  </thead>\n",
       "  <tbody>\n",
       "    <tr>\n",
       "      <th>0</th>\n",
       "      <td>1</td>\n",
       "      <td>0</td>\n",
       "      <td>3</td>\n",
       "      <td>Braund, Mr. Owen Harris</td>\n",
       "      <td>male</td>\n",
       "      <td>22.0</td>\n",
       "      <td>1</td>\n",
       "      <td>0</td>\n",
       "      <td>A/5 21171</td>\n",
       "      <td>7.2500</td>\n",
       "      <td>NaN</td>\n",
       "      <td>S</td>\n",
       "    </tr>\n",
       "    <tr>\n",
       "      <th>1</th>\n",
       "      <td>2</td>\n",
       "      <td>1</td>\n",
       "      <td>1</td>\n",
       "      <td>Cumings, Mrs. John Bradley (Florence Briggs Th...</td>\n",
       "      <td>female</td>\n",
       "      <td>38.0</td>\n",
       "      <td>1</td>\n",
       "      <td>0</td>\n",
       "      <td>PC 17599</td>\n",
       "      <td>71.2833</td>\n",
       "      <td>C85</td>\n",
       "      <td>C</td>\n",
       "    </tr>\n",
       "    <tr>\n",
       "      <th>2</th>\n",
       "      <td>3</td>\n",
       "      <td>1</td>\n",
       "      <td>3</td>\n",
       "      <td>Heikkinen, Miss. Laina</td>\n",
       "      <td>female</td>\n",
       "      <td>26.0</td>\n",
       "      <td>0</td>\n",
       "      <td>0</td>\n",
       "      <td>STON/O2. 3101282</td>\n",
       "      <td>7.9250</td>\n",
       "      <td>NaN</td>\n",
       "      <td>S</td>\n",
       "    </tr>\n",
       "    <tr>\n",
       "      <th>3</th>\n",
       "      <td>4</td>\n",
       "      <td>1</td>\n",
       "      <td>1</td>\n",
       "      <td>Futrelle, Mrs. Jacques Heath (Lily May Peel)</td>\n",
       "      <td>female</td>\n",
       "      <td>35.0</td>\n",
       "      <td>1</td>\n",
       "      <td>0</td>\n",
       "      <td>113803</td>\n",
       "      <td>53.1000</td>\n",
       "      <td>C123</td>\n",
       "      <td>S</td>\n",
       "    </tr>\n",
       "    <tr>\n",
       "      <th>4</th>\n",
       "      <td>5</td>\n",
       "      <td>0</td>\n",
       "      <td>3</td>\n",
       "      <td>Allen, Mr. William Henry</td>\n",
       "      <td>male</td>\n",
       "      <td>35.0</td>\n",
       "      <td>0</td>\n",
       "      <td>0</td>\n",
       "      <td>373450</td>\n",
       "      <td>8.0500</td>\n",
       "      <td>NaN</td>\n",
       "      <td>S</td>\n",
       "    </tr>\n",
       "  </tbody>\n",
       "</table>\n",
       "</div>"
      ],
      "text/plain": [
       "   PassengerId  Survived  Pclass  \\\n",
       "0            1         0       3   \n",
       "1            2         1       1   \n",
       "2            3         1       3   \n",
       "3            4         1       1   \n",
       "4            5         0       3   \n",
       "\n",
       "                                                Name     Sex   Age  SibSp  \\\n",
       "0                            Braund, Mr. Owen Harris    male  22.0      1   \n",
       "1  Cumings, Mrs. John Bradley (Florence Briggs Th...  female  38.0      1   \n",
       "2                             Heikkinen, Miss. Laina  female  26.0      0   \n",
       "3       Futrelle, Mrs. Jacques Heath (Lily May Peel)  female  35.0      1   \n",
       "4                           Allen, Mr. William Henry    male  35.0      0   \n",
       "\n",
       "   Parch            Ticket     Fare Cabin Embarked  \n",
       "0      0         A/5 21171   7.2500   NaN        S  \n",
       "1      0          PC 17599  71.2833   C85        C  \n",
       "2      0  STON/O2. 3101282   7.9250   NaN        S  \n",
       "3      0            113803  53.1000  C123        S  \n",
       "4      0            373450   8.0500   NaN        S  "
      ]
     },
     "execution_count": 11,
     "metadata": {},
     "output_type": "execute_result"
    }
   ],
   "source": [
    "# checking the dataset load\n",
    "titanic.head()"
   ]
  },
  {
   "cell_type": "markdown",
   "id": "98e7f4380aea8116",
   "metadata": {},
   "source": [
    "#### EDA\n",
    "- attributes"
   ]
  },
  {
   "cell_type": "code",
   "execution_count": 12,
   "id": "2cc047a9",
   "metadata": {},
   "outputs": [
    {
     "data": {
      "text/plain": [
       "(891, 12)"
      ]
     },
     "execution_count": 12,
     "metadata": {},
     "output_type": "execute_result"
    }
   ],
   "source": [
    "titanic.shape"
   ]
  },
  {
   "cell_type": "code",
   "execution_count": 13,
   "id": "ff21b2bb",
   "metadata": {},
   "outputs": [
    {
     "data": {
      "text/plain": [
       "10692"
      ]
     },
     "execution_count": 13,
     "metadata": {},
     "output_type": "execute_result"
    }
   ],
   "source": [
    "titanic.size"
   ]
  },
  {
   "cell_type": "code",
   "execution_count": 14,
   "id": "89d5a883",
   "metadata": {},
   "outputs": [
    {
     "data": {
      "text/plain": [
       "PassengerId      int64\n",
       "Survived         int64\n",
       "Pclass           int64\n",
       "Name            object\n",
       "Sex             object\n",
       "Age            float64\n",
       "SibSp            int64\n",
       "Parch            int64\n",
       "Ticket          object\n",
       "Fare           float64\n",
       "Cabin           object\n",
       "Embarked        object\n",
       "dtype: object"
      ]
     },
     "execution_count": 14,
     "metadata": {},
     "output_type": "execute_result"
    }
   ],
   "source": [
    "titanic.dtypes"
   ]
  },
  {
   "cell_type": "code",
   "execution_count": 15,
   "id": "334fdbb8",
   "metadata": {},
   "outputs": [
    {
     "data": {
      "text/plain": [
       "Index(['PassengerId', 'Survived', 'Pclass', 'Name', 'Sex', 'Age', 'SibSp',\n",
       "       'Parch', 'Ticket', 'Fare', 'Cabin', 'Embarked'],\n",
       "      dtype='object')"
      ]
     },
     "execution_count": 15,
     "metadata": {},
     "output_type": "execute_result"
    }
   ],
   "source": [
    "titanic.columns"
   ]
  },
  {
   "cell_type": "code",
   "execution_count": 16,
   "id": "76f73985",
   "metadata": {},
   "outputs": [
    {
     "data": {
      "text/plain": [
       "2"
      ]
     },
     "execution_count": 16,
     "metadata": {},
     "output_type": "execute_result"
    }
   ],
   "source": [
    "titanic.ndim"
   ]
  },
  {
   "cell_type": "code",
   "execution_count": 17,
   "id": "69d88a74a2a7d0ae",
   "metadata": {
    "ExecuteTime": {
     "end_time": "2024-10-23T20:40:17.658216Z",
     "start_time": "2024-10-23T20:40:17.652911Z"
    }
   },
   "outputs": [
    {
     "data": {
      "text/plain": [
       "PassengerId      0\n",
       "Survived         0\n",
       "Pclass           0\n",
       "Name             0\n",
       "Sex              0\n",
       "Age            177\n",
       "SibSp            0\n",
       "Parch            0\n",
       "Ticket           0\n",
       "Fare             0\n",
       "Cabin          687\n",
       "Embarked         2\n",
       "dtype: int64"
      ]
     },
     "execution_count": 17,
     "metadata": {},
     "output_type": "execute_result"
    }
   ],
   "source": [
    "# basic data exploration: attributes\n",
    "# examine missing values\n",
    "titanic.isnull().sum()\n",
    "# 1. there is missing values in this dataset\n",
    "# 2. age: 177 missing values (numerical), cabin: 687 (object), embarked:2 (multi-categorical, classes)"
   ]
  },
  {
   "cell_type": "code",
   "execution_count": 18,
   "id": "9602b293359c1d9e",
   "metadata": {
    "ExecuteTime": {
     "end_time": "2024-10-23T20:40:17.718396Z",
     "start_time": "2024-10-23T20:40:17.699453Z"
    }
   },
   "outputs": [
    {
     "name": "stdout",
     "output_type": "stream",
     "text": [
      "<class 'pandas.core.frame.DataFrame'>\n",
      "RangeIndex: 891 entries, 0 to 890\n",
      "Data columns (total 12 columns):\n",
      " #   Column       Non-Null Count  Dtype  \n",
      "---  ------       --------------  -----  \n",
      " 0   PassengerId  891 non-null    int64  \n",
      " 1   Survived     891 non-null    int64  \n",
      " 2   Pclass       891 non-null    int64  \n",
      " 3   Name         891 non-null    object \n",
      " 4   Sex          891 non-null    object \n",
      " 5   Age          714 non-null    float64\n",
      " 6   SibSp        891 non-null    int64  \n",
      " 7   Parch        891 non-null    int64  \n",
      " 8   Ticket       891 non-null    object \n",
      " 9   Fare         891 non-null    float64\n",
      " 10  Cabin        204 non-null    object \n",
      " 11  Embarked     889 non-null    object \n",
      "dtypes: float64(2), int64(5), object(5)\n",
      "memory usage: 83.7+ KB\n"
     ]
    }
   ],
   "source": [
    "titanic.info()"
   ]
  },
  {
   "cell_type": "markdown",
   "id": "bcf13022",
   "metadata": {},
   "source": [
    "**Seven V's of Data Science**\n",
    "- volume\n",
    "- variety\n",
    "- velocity\n",
    "- variability\n",
    "- veracity\n",
    "- value\n",
    "- visualization"
   ]
  },
  {
   "cell_type": "code",
   "execution_count": 19,
   "id": "d811ced0",
   "metadata": {},
   "outputs": [
    {
     "data": {
      "text/html": [
       "<div>\n",
       "<style scoped>\n",
       "    .dataframe tbody tr th:only-of-type {\n",
       "        vertical-align: middle;\n",
       "    }\n",
       "\n",
       "    .dataframe tbody tr th {\n",
       "        vertical-align: top;\n",
       "    }\n",
       "\n",
       "    .dataframe thead th {\n",
       "        text-align: right;\n",
       "    }\n",
       "</style>\n",
       "<table border=\"1\" class=\"dataframe\">\n",
       "  <thead>\n",
       "    <tr style=\"text-align: right;\">\n",
       "      <th></th>\n",
       "      <th>Name</th>\n",
       "      <th>Sex</th>\n",
       "      <th>Ticket</th>\n",
       "      <th>Cabin</th>\n",
       "      <th>Embarked</th>\n",
       "    </tr>\n",
       "  </thead>\n",
       "  <tbody>\n",
       "    <tr>\n",
       "      <th>count</th>\n",
       "      <td>891</td>\n",
       "      <td>891</td>\n",
       "      <td>891</td>\n",
       "      <td>204</td>\n",
       "      <td>889</td>\n",
       "    </tr>\n",
       "    <tr>\n",
       "      <th>unique</th>\n",
       "      <td>891</td>\n",
       "      <td>2</td>\n",
       "      <td>681</td>\n",
       "      <td>147</td>\n",
       "      <td>3</td>\n",
       "    </tr>\n",
       "    <tr>\n",
       "      <th>top</th>\n",
       "      <td>Braund, Mr. Owen Harris</td>\n",
       "      <td>male</td>\n",
       "      <td>347082</td>\n",
       "      <td>B96 B98</td>\n",
       "      <td>S</td>\n",
       "    </tr>\n",
       "    <tr>\n",
       "      <th>freq</th>\n",
       "      <td>1</td>\n",
       "      <td>577</td>\n",
       "      <td>7</td>\n",
       "      <td>4</td>\n",
       "      <td>644</td>\n",
       "    </tr>\n",
       "  </tbody>\n",
       "</table>\n",
       "</div>"
      ],
      "text/plain": [
       "                           Name   Sex  Ticket    Cabin Embarked\n",
       "count                       891   891     891      204      889\n",
       "unique                      891     2     681      147        3\n",
       "top     Braund, Mr. Owen Harris  male  347082  B96 B98        S\n",
       "freq                          1   577       7        4      644"
      ]
     },
     "execution_count": 19,
     "metadata": {},
     "output_type": "execute_result"
    }
   ],
   "source": [
    "titanic.describe(include='object')"
   ]
  },
  {
   "cell_type": "markdown",
   "id": "9dd11353",
   "metadata": {},
   "source": [
    "### Strategies in Handling Missing Values\n",
    "- there are 3 strategies in handling missing values:\n",
    "1. using the dropna() method: there are 3 situationsin using dropna(): used for both numeric and non-numeric\n",
    "    - df.dropna(): dropping any missing values (row and column levels)\n",
    "    - df.dropna(axis=0): dropping any row aith missing values\n",
    "    - df.dropna(axis=1): dropping any column with missing values\n",
    "2. using fillna(): for numeric dtypes, filling missing values with the column mean or median\n",
    "3. using fillna(): for non-numeric (categorical/object) dtypes, filling missing values with the 'most frequent' value or any value such as <code>\"no-info\"</code> (imputation)\n",
    "- **BE CAREFUL WHEN DROPPING MISSING VALUES!** (look at ~50%)\n",
    "- when you have outliers, it is safe to fill with median, not mean"
   ]
  },
  {
   "cell_type": "code",
   "execution_count": 20,
   "id": "702cdf62",
   "metadata": {},
   "outputs": [],
   "source": [
    "# create variable for practice\n",
    "titanic1 = titanic.copy()"
   ]
  },
  {
   "cell_type": "code",
   "execution_count": 21,
   "id": "bb88c5cf",
   "metadata": {},
   "outputs": [
    {
     "data": {
      "text/plain": [
       "(891, 12)"
      ]
     },
     "execution_count": 21,
     "metadata": {},
     "output_type": "execute_result"
    }
   ],
   "source": [
    "titanic1.shape"
   ]
  },
  {
   "cell_type": "code",
   "execution_count": 22,
   "id": "dfaee5d7",
   "metadata": {},
   "outputs": [
    {
     "data": {
      "text/plain": [
       "PassengerId     0.000000\n",
       "Survived        0.000000\n",
       "Pclass          0.000000\n",
       "Name            0.000000\n",
       "Sex             0.000000\n",
       "Age            19.865320\n",
       "SibSp           0.000000\n",
       "Parch           0.000000\n",
       "Ticket          0.000000\n",
       "Fare            0.000000\n",
       "Cabin          77.104377\n",
       "Embarked        0.224467\n",
       "dtype: float64"
      ]
     },
     "execution_count": 22,
     "metadata": {},
     "output_type": "execute_result"
    }
   ],
   "source": [
    "# let's see the percentage of missing values in every variable\n",
    "titanic1.isnull().sum() * 100 / len(titanic1)\n",
    "# 1. would dropping any of these columns be helpful?"
   ]
  },
  {
   "cell_type": "markdown",
   "id": "04b343b1",
   "metadata": {},
   "source": [
    "**Since cabin variable has 77% missing values and it does not seem critical to my data processing objectives, we can drop the entire column.**"
   ]
  },
  {
   "cell_type": "markdown",
   "id": "32a6687e",
   "metadata": {},
   "source": [
    "#### Deleting a Column with or without missing values"
   ]
  },
  {
   "cell_type": "code",
   "execution_count": 23,
   "id": "93515c78",
   "metadata": {},
   "outputs": [],
   "source": [
    "# delete Cabin variable (minimum of 2 parameters, !must have 'inplace' to make it effective!)\n",
    "titanic1.drop('Cabin', axis=1, inplace=True)"
   ]
  },
  {
   "cell_type": "code",
   "execution_count": 24,
   "id": "fa0bf8c6",
   "metadata": {},
   "outputs": [
    {
     "data": {
      "text/plain": [
       "Index(['PassengerId', 'Survived', 'Pclass', 'Name', 'Sex', 'Age', 'SibSp',\n",
       "       'Parch', 'Ticket', 'Fare', 'Embarked'],\n",
       "      dtype='object')"
      ]
     },
     "execution_count": 24,
     "metadata": {},
     "output_type": "execute_result"
    }
   ],
   "source": [
    "titanic1.columns"
   ]
  },
  {
   "cell_type": "code",
   "execution_count": 25,
   "id": "c39d503d",
   "metadata": {},
   "outputs": [],
   "source": [
    "titanic2 = titanic.copy()"
   ]
  },
  {
   "cell_type": "code",
   "execution_count": 26,
   "id": "44f549f1",
   "metadata": {},
   "outputs": [
    {
     "data": {
      "text/plain": [
       "(891, 12)"
      ]
     },
     "execution_count": 26,
     "metadata": {},
     "output_type": "execute_result"
    }
   ],
   "source": [
    "titanic2.shape"
   ]
  },
  {
   "cell_type": "code",
   "execution_count": 27,
   "id": "3a8ee677",
   "metadata": {},
   "outputs": [],
   "source": [
    "# using the dropna() method\n",
    "titanic2.dropna(inplace=True)"
   ]
  },
  {
   "cell_type": "code",
   "execution_count": 28,
   "id": "596c47f6",
   "metadata": {},
   "outputs": [
    {
     "data": {
      "text/plain": [
       "(183, 12)"
      ]
     },
     "execution_count": 28,
     "metadata": {},
     "output_type": "execute_result"
    }
   ],
   "source": [
    "titanic2.shape"
   ]
  },
  {
   "cell_type": "code",
   "execution_count": 29,
   "id": "18f8d41f",
   "metadata": {},
   "outputs": [],
   "source": [
    "titanic3 = titanic.copy()"
   ]
  },
  {
   "cell_type": "code",
   "execution_count": 30,
   "id": "a1defbb6",
   "metadata": {},
   "outputs": [
    {
     "data": {
      "text/plain": [
       "(891, 9)"
      ]
     },
     "execution_count": 30,
     "metadata": {},
     "output_type": "execute_result"
    }
   ],
   "source": [
    "titanic3.dropna(axis=1, inplace=True)\n",
    "titanic3.shape"
   ]
  },
  {
   "cell_type": "code",
   "execution_count": 31,
   "id": "15b7f24e",
   "metadata": {},
   "outputs": [
    {
     "data": {
      "text/plain": [
       "Index(['PassengerId', 'Survived', 'Pclass', 'Name', 'Sex', 'SibSp', 'Parch',\n",
       "       'Ticket', 'Fare'],\n",
       "      dtype='object')"
      ]
     },
     "execution_count": 31,
     "metadata": {},
     "output_type": "execute_result"
    }
   ],
   "source": [
    "titanic3.columns"
   ]
  },
  {
   "cell_type": "code",
   "execution_count": 32,
   "id": "0ec7cbc4",
   "metadata": {},
   "outputs": [
    {
     "data": {
      "text/plain": [
       "(891, 12)"
      ]
     },
     "execution_count": 32,
     "metadata": {},
     "output_type": "execute_result"
    }
   ],
   "source": [
    "titanic4 = titanic.copy()\n",
    "titanic4.shape"
   ]
  },
  {
   "cell_type": "code",
   "execution_count": 33,
   "id": "7add7558",
   "metadata": {},
   "outputs": [
    {
     "data": {
      "text/plain": [
       "(183, 12)"
      ]
     },
     "execution_count": 33,
     "metadata": {},
     "output_type": "execute_result"
    }
   ],
   "source": [
    "titanic4.dropna(axis=0, inplace=True)\n",
    "titanic4.shape"
   ]
  },
  {
   "cell_type": "code",
   "execution_count": 34,
   "id": "68546083",
   "metadata": {},
   "outputs": [
    {
     "data": {
      "image/png": "[encoded data removed]",
      "text/plain": [
       "<Figure size 640x480 with 1 Axes>"
      ]
     },
     "metadata": {},
     "output_type": "display_data"
    }
   ],
   "source": [
    "titanic4.hist('Age');"
   ]
  },
  {
   "cell_type": "markdown",
   "id": "49090b17",
   "metadata": {},
   "source": [
    "**When imputing the missing values of a numeric variable, it is a safer strategy to fill the missing values with the median() of the variable than the mean(), because the median is less sensitive to the outliers.**"
   ]
  },
  {
   "cell_type": "code",
   "execution_count": 35,
   "id": "6076fa0f",
   "metadata": {},
   "outputs": [],
   "source": [
    "# imputing the missing values of age using median()\n",
    "titanic5 = titanic.copy()"
   ]
  },
  {
   "cell_type": "code",
   "execution_count": 36,
   "id": "d7fa3de5",
   "metadata": {},
   "outputs": [],
   "source": [
    "# using titanic1 since it already has 'Cabin' column removed\n",
    "titanic1['Age'] = titanic1['Age'].fillna(titanic1['Age'].median())"
   ]
  },
  {
   "cell_type": "code",
   "execution_count": 37,
   "id": "a8f6c0e9",
   "metadata": {},
   "outputs": [
    {
     "data": {
      "text/plain": [
       "PassengerId    0\n",
       "Survived       0\n",
       "Pclass         0\n",
       "Name           0\n",
       "Sex            0\n",
       "Age            0\n",
       "SibSp          0\n",
       "Parch          0\n",
       "Ticket         0\n",
       "Fare           0\n",
       "Embarked       2\n",
       "dtype: int64"
      ]
     },
     "execution_count": 37,
     "metadata": {},
     "output_type": "execute_result"
    }
   ],
   "source": [
    "titanic1.isnull().sum()"
   ]
  },
  {
   "cell_type": "code",
   "execution_count": 38,
   "id": "871bf937",
   "metadata": {},
   "outputs": [
    {
     "data": {
      "text/plain": [
       "Embarked\n",
       "S    644\n",
       "C    168\n",
       "Q     77\n",
       "Name: count, dtype: int64"
      ]
     },
     "execution_count": 38,
     "metadata": {},
     "output_type": "execute_result"
    }
   ],
   "source": [
    "titanic1['Embarked'].value_counts() "
   ]
  },
  {
   "cell_type": "markdown",
   "id": "4ad1b8a6",
   "metadata": {},
   "source": [
    "**Since the categorical variable of Embarked has 3 categories and the most frequent one is S, we impute the missing values of Embarked wit S category.**"
   ]
  },
  {
   "cell_type": "code",
   "execution_count": 39,
   "id": "152656f7",
   "metadata": {},
   "outputs": [
    {
     "data": {
      "text/plain": [
       "PassengerId    0\n",
       "Survived       0\n",
       "Pclass         0\n",
       "Name           0\n",
       "Sex            0\n",
       "Age            0\n",
       "SibSp          0\n",
       "Parch          0\n",
       "Ticket         0\n",
       "Fare           0\n",
       "Embarked       0\n",
       "dtype: int64"
      ]
     },
     "execution_count": 39,
     "metadata": {},
     "output_type": "execute_result"
    }
   ],
   "source": [
    "titanic1['Embarked'].fillna('S', inplace=True)\n",
    "titanic1.isnull().sum()"
   ]
  },
  {
   "cell_type": "markdown",
   "id": "707100d0",
   "metadata": {},
   "source": [
    "### Conclusion:\n",
    "- missing values can result from various causes (data entry errors, collection issues)\n",
    "- knowing the reason can help decide whether to drop or fill missing values\n",
    "- .drop(): will remove the row or column completely\n",
    "- use .isnull().sum() or .info() for an overview of missing values\n",
    "- use df.isnull().sum * 100 / len(df) to find percentage of missing values and proceed \n",
    "- .dropna() is the simplest form, removing any rows that contain at least one missing value\n",
    "- .dropna(axis=0): default, drops rows with missing values\n",
    "- .dropna(axis=1): drops columns with missing values\n",
    "- .fillna(): fill missing values witha specified value or method\n",
    "- .fillna(value=n): replaces NaN with a specific value n \n",
    "- .fillna(df.mean()): calculate the mean and replace NaN \n",
    "- .fillna(df.median()): calculate the median and replace NaN\n",
    "- .fillna(method=ffill): forward fill, uses the last known value to fill NaN moving forward\n",
    "- .fillna(method=bfill): backward fill, uses the nest know value to fill NaN miving backward\n",
    "- (inplace=True): used to modify the DataFrame directly"
   ]
  },
  {
   "cell_type": "markdown",
   "id": "3fe7e0a0",
   "metadata": {},
   "source": [
    "**End of Lab 08**"
   ]
  }
 ],
 "metadata": {
  "kernelspec": {
   "display_name": "base",
   "language": "python",
   "name": "python3"
  },
  "language_info": {
   "codemirror_mode": {
    "name": "ipython",
    "version": 3
   },
   "file_extension": ".py",
   "mimetype": "text/x-python",
   "name": "python",
   "nbconvert_exporter": "python",
   "pygments_lexer": "ipython3",
   "version": "3.11.7"
  }
 },
 "nbformat": 4,
 "nbformat_minor": 5
}
