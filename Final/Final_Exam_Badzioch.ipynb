{
 "cells": [
  {
   "cell_type": "markdown",
   "id": "dbacc67a",
   "metadata": {},
   "source": [
    "# Final Exam - Andrew Badzioch"
   ]
  },
  {
   "cell_type": "markdown",
   "id": "4264dad1",
   "metadata": {},
   "source": [
    "## 1. Introduction\n",
    "\n",
    "### Background:\n",
    "- Starbucks started its coffee business with a single store in Seattle in 1971.\n",
    "- Now, it has stores in many countries with more than 20,000 stores worldwide.  \n",
    "\n",
    "### Objective:\n",
    "1. Examining Starbucks coffee stores worldwide \n",
    "2. Which country has the highest number of Starbucks stores?\n",
    "3. Which city worldwide has the highest number of Starbucks stores?\n",
    "4. Which states in the USA have the highest number of Starbucks stores?\n",
    "\n",
    "### Data Description:\n",
    "1. **Brand:** brand of coffees\n",
    "2. **Store Number:** number of the store\n",
    "3. **Store Name:** name of the store\n",
    "4. **Ownership Type:** type of ownership of the store\n",
    "5. **Street Address:** street address of the store\n",
    "6. **City:** city location of the store\n",
    "7. **State/Province:** state where the store is located\n",
    "8. **Country:** country where the store is located\n",
    "9. **Postcode:** the store postcode\n",
    "10. **Phone Number:** the store phone number  \n",
    "11. **Timezone:** time zone of the location where the store is located\n",
    "12. **Longitude:** longitude of the city\n",
    "13. **Latitude:** latitude of the city"
   ]
  },
  {
   "cell_type": "markdown",
   "id": "c16eeec5",
   "metadata": {},
   "source": [
    "## 2. Importing Libraries:"
   ]
  },
  {
   "cell_type": "code",
   "execution_count": 4,
   "id": "e841cf47",
   "metadata": {},
   "outputs": [],
   "source": [
    "# general libraries\n",
    "import numpy as np\n",
    "import pandas as pd\n",
    "\n",
    "# data visualization libraries\n",
    "import matplotlib.pyplot as plt\n",
    "import seaborn as sns\n",
    "%matplotlib inline\n",
    "\n",
    "# library to supress warnings\n",
    "import warnings\n",
    "warnings.filterwarnings('ignore')"
   ]
  },
  {
   "cell_type": "markdown",
   "id": "5d0ea635",
   "metadata": {},
   "source": [
    "## 3. Loading Data:\n",
    "- Load dataset and with df  name\n",
    "- Create a copy of the dataset and name it starbucks"
   ]
  },
  {
   "cell_type": "code",
   "execution_count": 6,
   "id": "ee23bdab-7293-41f6-aff4-cc39ffe2ce0b",
   "metadata": {},
   "outputs": [],
   "source": [
    "df = pd.read_csv('starbucks.csv')\n",
    "starbucks = df.copy()"
   ]
  },
  {
   "cell_type": "markdown",
   "id": "464df262",
   "metadata": {},
   "source": [
    "## 4. EDA (Exploratory Data Analysis)"
   ]
  },
  {
   "cell_type": "markdown",
   "id": "914f2399",
   "metadata": {},
   "source": [
    "- **A) Basic Data Exploration: Examine the following**\n",
    "   - head\n",
    "   - tail\n",
    "   - shape\n",
    "   - size\n",
    "   - dimensionality\n",
    "   - names of all columns\n",
    "   - all data types in the dataset\n",
    "   - examining missing values\n",
    "   - dataset information\n",
    "   - statistical summary\n",
    "   - summary of object features\n",
    "   - duplicated"
   ]
  },
  {
   "cell_type": "code",
   "execution_count": 9,
   "id": "10d6e178-eac9-42c3-af8d-8e5034974770",
   "metadata": {},
   "outputs": [
    {
     "data": {
      "text/html": [
       "<div>\n",
       "<style scoped>\n",
       "    .dataframe tbody tr th:only-of-type {\n",
       "        vertical-align: middle;\n",
       "    }\n",
       "\n",
       "    .dataframe tbody tr th {\n",
       "        vertical-align: top;\n",
       "    }\n",
       "\n",
       "    .dataframe thead th {\n",
       "        text-align: right;\n",
       "    }\n",
       "</style>\n",
       "<table border=\"1\" class=\"dataframe\">\n",
       "  <thead>\n",
       "    <tr style=\"text-align: right;\">\n",
       "      <th></th>\n",
       "      <th>Brand</th>\n",
       "      <th>Store Number</th>\n",
       "      <th>Store Name</th>\n",
       "      <th>Ownership Type</th>\n",
       "      <th>Street Address</th>\n",
       "      <th>City</th>\n",
       "      <th>State/Province</th>\n",
       "      <th>Country</th>\n",
       "      <th>Postcode</th>\n",
       "      <th>Phone Number</th>\n",
       "      <th>Timezone</th>\n",
       "      <th>Longitude</th>\n",
       "      <th>Latitude</th>\n",
       "    </tr>\n",
       "  </thead>\n",
       "  <tbody>\n",
       "    <tr>\n",
       "      <th>0</th>\n",
       "      <td>Starbucks</td>\n",
       "      <td>47370-257954</td>\n",
       "      <td>Meritxell, 96</td>\n",
       "      <td>Licensed</td>\n",
       "      <td>Av. Meritxell, 96</td>\n",
       "      <td>Andorra la Vella</td>\n",
       "      <td>7</td>\n",
       "      <td>AD</td>\n",
       "      <td>AD500</td>\n",
       "      <td>376818720</td>\n",
       "      <td>GMT+1:00 Europe/Andorra</td>\n",
       "      <td>1.53</td>\n",
       "      <td>42.51</td>\n",
       "    </tr>\n",
       "    <tr>\n",
       "      <th>1</th>\n",
       "      <td>Starbucks</td>\n",
       "      <td>22331-212325</td>\n",
       "      <td>Ajman Drive Thru</td>\n",
       "      <td>Licensed</td>\n",
       "      <td>1 Street 69, Al Jarf</td>\n",
       "      <td>Ajman</td>\n",
       "      <td>AJ</td>\n",
       "      <td>AE</td>\n",
       "      <td>NaN</td>\n",
       "      <td>NaN</td>\n",
       "      <td>GMT+04:00 Asia/Dubai</td>\n",
       "      <td>55.47</td>\n",
       "      <td>25.42</td>\n",
       "    </tr>\n",
       "    <tr>\n",
       "      <th>2</th>\n",
       "      <td>Starbucks</td>\n",
       "      <td>47089-256771</td>\n",
       "      <td>Dana Mall</td>\n",
       "      <td>Licensed</td>\n",
       "      <td>Sheikh Khalifa Bin Zayed St.</td>\n",
       "      <td>Ajman</td>\n",
       "      <td>AJ</td>\n",
       "      <td>AE</td>\n",
       "      <td>NaN</td>\n",
       "      <td>NaN</td>\n",
       "      <td>GMT+04:00 Asia/Dubai</td>\n",
       "      <td>55.47</td>\n",
       "      <td>25.39</td>\n",
       "    </tr>\n",
       "    <tr>\n",
       "      <th>3</th>\n",
       "      <td>Starbucks</td>\n",
       "      <td>22126-218024</td>\n",
       "      <td>Twofour 54</td>\n",
       "      <td>Licensed</td>\n",
       "      <td>Al Salam Street</td>\n",
       "      <td>Abu Dhabi</td>\n",
       "      <td>AZ</td>\n",
       "      <td>AE</td>\n",
       "      <td>NaN</td>\n",
       "      <td>NaN</td>\n",
       "      <td>GMT+04:00 Asia/Dubai</td>\n",
       "      <td>54.38</td>\n",
       "      <td>24.48</td>\n",
       "    </tr>\n",
       "    <tr>\n",
       "      <th>4</th>\n",
       "      <td>Starbucks</td>\n",
       "      <td>17127-178586</td>\n",
       "      <td>Al Ain Tower</td>\n",
       "      <td>Licensed</td>\n",
       "      <td>Khaldiya Area, Abu Dhabi Island</td>\n",
       "      <td>Abu Dhabi</td>\n",
       "      <td>AZ</td>\n",
       "      <td>AE</td>\n",
       "      <td>NaN</td>\n",
       "      <td>NaN</td>\n",
       "      <td>GMT+04:00 Asia/Dubai</td>\n",
       "      <td>54.54</td>\n",
       "      <td>24.51</td>\n",
       "    </tr>\n",
       "  </tbody>\n",
       "</table>\n",
       "</div>"
      ],
      "text/plain": [
       "       Brand  Store Number        Store Name Ownership Type  \\\n",
       "0  Starbucks  47370-257954     Meritxell, 96       Licensed   \n",
       "1  Starbucks  22331-212325  Ajman Drive Thru       Licensed   \n",
       "2  Starbucks  47089-256771         Dana Mall       Licensed   \n",
       "3  Starbucks  22126-218024        Twofour 54       Licensed   \n",
       "4  Starbucks  17127-178586      Al Ain Tower       Licensed   \n",
       "\n",
       "                    Street Address              City State/Province Country  \\\n",
       "0                Av. Meritxell, 96  Andorra la Vella              7      AD   \n",
       "1             1 Street 69, Al Jarf             Ajman             AJ      AE   \n",
       "2     Sheikh Khalifa Bin Zayed St.             Ajman             AJ      AE   \n",
       "3                  Al Salam Street         Abu Dhabi             AZ      AE   \n",
       "4  Khaldiya Area, Abu Dhabi Island         Abu Dhabi             AZ      AE   \n",
       "\n",
       "  Postcode Phone Number                 Timezone  Longitude  Latitude  \n",
       "0    AD500    376818720  GMT+1:00 Europe/Andorra       1.53     42.51  \n",
       "1      NaN          NaN     GMT+04:00 Asia/Dubai      55.47     25.42  \n",
       "2      NaN          NaN     GMT+04:00 Asia/Dubai      55.47     25.39  \n",
       "3      NaN          NaN     GMT+04:00 Asia/Dubai      54.38     24.48  \n",
       "4      NaN          NaN     GMT+04:00 Asia/Dubai      54.54     24.51  "
      ]
     },
     "execution_count": 9,
     "metadata": {},
     "output_type": "execute_result"
    }
   ],
   "source": [
    "starbucks.head()"
   ]
  },
  {
   "cell_type": "code",
   "execution_count": 10,
   "id": "b08be0c8-1eb9-42ad-a5a3-8f81f2493e34",
   "metadata": {},
   "outputs": [
    {
     "data": {
      "text/html": [
       "<div>\n",
       "<style scoped>\n",
       "    .dataframe tbody tr th:only-of-type {\n",
       "        vertical-align: middle;\n",
       "    }\n",
       "\n",
       "    .dataframe tbody tr th {\n",
       "        vertical-align: top;\n",
       "    }\n",
       "\n",
       "    .dataframe thead th {\n",
       "        text-align: right;\n",
       "    }\n",
       "</style>\n",
       "<table border=\"1\" class=\"dataframe\">\n",
       "  <thead>\n",
       "    <tr style=\"text-align: right;\">\n",
       "      <th></th>\n",
       "      <th>Brand</th>\n",
       "      <th>Store Number</th>\n",
       "      <th>Store Name</th>\n",
       "      <th>Ownership Type</th>\n",
       "      <th>Street Address</th>\n",
       "      <th>City</th>\n",
       "      <th>State/Province</th>\n",
       "      <th>Country</th>\n",
       "      <th>Postcode</th>\n",
       "      <th>Phone Number</th>\n",
       "      <th>Timezone</th>\n",
       "      <th>Longitude</th>\n",
       "      <th>Latitude</th>\n",
       "    </tr>\n",
       "  </thead>\n",
       "  <tbody>\n",
       "    <tr>\n",
       "      <th>25595</th>\n",
       "      <td>Starbucks</td>\n",
       "      <td>21401-212072</td>\n",
       "      <td>Rex</td>\n",
       "      <td>Licensed</td>\n",
       "      <td>141 Nguyễn Huệ, Quận 1, Góc đường Pasteur và L...</td>\n",
       "      <td>Thành Phố Hồ Chí Minh</td>\n",
       "      <td>SG</td>\n",
       "      <td>VN</td>\n",
       "      <td>70000</td>\n",
       "      <td>08 3824 4668</td>\n",
       "      <td>GMT+000000 Asia/Saigon</td>\n",
       "      <td>106.70</td>\n",
       "      <td>10.78</td>\n",
       "    </tr>\n",
       "    <tr>\n",
       "      <th>25596</th>\n",
       "      <td>Starbucks</td>\n",
       "      <td>24010-226985</td>\n",
       "      <td>Panorama</td>\n",
       "      <td>Licensed</td>\n",
       "      <td>SN-44, Tòa Nhà Panorama, 208 Trần Văn Trà, Quận 7</td>\n",
       "      <td>Thành Phố Hồ Chí Minh</td>\n",
       "      <td>SG</td>\n",
       "      <td>VN</td>\n",
       "      <td>70000</td>\n",
       "      <td>08 5413 8292</td>\n",
       "      <td>GMT+000000 Asia/Saigon</td>\n",
       "      <td>106.71</td>\n",
       "      <td>10.72</td>\n",
       "    </tr>\n",
       "    <tr>\n",
       "      <th>25597</th>\n",
       "      <td>Starbucks</td>\n",
       "      <td>47608-253804</td>\n",
       "      <td>Rosebank Mall</td>\n",
       "      <td>Licensed</td>\n",
       "      <td>Cnr Tyrwhitt and Cradock Avenue, Rosebank</td>\n",
       "      <td>Johannesburg</td>\n",
       "      <td>GT</td>\n",
       "      <td>ZA</td>\n",
       "      <td>2194</td>\n",
       "      <td>27873500159</td>\n",
       "      <td>GMT+000000 Africa/Johannesburg</td>\n",
       "      <td>28.04</td>\n",
       "      <td>-26.15</td>\n",
       "    </tr>\n",
       "    <tr>\n",
       "      <th>25598</th>\n",
       "      <td>Starbucks</td>\n",
       "      <td>47640-253809</td>\n",
       "      <td>Menlyn Maine</td>\n",
       "      <td>Licensed</td>\n",
       "      <td>Shop 61B, Central Square, Cnr Aramist &amp; Coroba...</td>\n",
       "      <td>Menlyn</td>\n",
       "      <td>GT</td>\n",
       "      <td>ZA</td>\n",
       "      <td>181</td>\n",
       "      <td>NaN</td>\n",
       "      <td>GMT+000000 Africa/Johannesburg</td>\n",
       "      <td>28.28</td>\n",
       "      <td>-25.79</td>\n",
       "    </tr>\n",
       "    <tr>\n",
       "      <th>25599</th>\n",
       "      <td>Starbucks</td>\n",
       "      <td>47609-253286</td>\n",
       "      <td>Mall of Africa</td>\n",
       "      <td>Licensed</td>\n",
       "      <td>Shop 2077, Upper Level, Waterfall City</td>\n",
       "      <td>Midrand</td>\n",
       "      <td>GT</td>\n",
       "      <td>ZA</td>\n",
       "      <td>1682</td>\n",
       "      <td>27873500215</td>\n",
       "      <td>GMT+000000 Africa/Johannesburg</td>\n",
       "      <td>28.11</td>\n",
       "      <td>-26.02</td>\n",
       "    </tr>\n",
       "  </tbody>\n",
       "</table>\n",
       "</div>"
      ],
      "text/plain": [
       "           Brand  Store Number      Store Name Ownership Type  \\\n",
       "25595  Starbucks  21401-212072             Rex       Licensed   \n",
       "25596  Starbucks  24010-226985        Panorama       Licensed   \n",
       "25597  Starbucks  47608-253804   Rosebank Mall       Licensed   \n",
       "25598  Starbucks  47640-253809    Menlyn Maine       Licensed   \n",
       "25599  Starbucks  47609-253286  Mall of Africa       Licensed   \n",
       "\n",
       "                                          Street Address  \\\n",
       "25595  141 Nguyễn Huệ, Quận 1, Góc đường Pasteur và L...   \n",
       "25596  SN-44, Tòa Nhà Panorama, 208 Trần Văn Trà, Quận 7   \n",
       "25597          Cnr Tyrwhitt and Cradock Avenue, Rosebank   \n",
       "25598  Shop 61B, Central Square, Cnr Aramist & Coroba...   \n",
       "25599             Shop 2077, Upper Level, Waterfall City   \n",
       "\n",
       "                        City State/Province Country Postcode  Phone Number  \\\n",
       "25595  Thành Phố Hồ Chí Minh             SG      VN    70000  08 3824 4668   \n",
       "25596  Thành Phố Hồ Chí Minh             SG      VN    70000  08 5413 8292   \n",
       "25597           Johannesburg             GT      ZA     2194   27873500159   \n",
       "25598                 Menlyn             GT      ZA      181           NaN   \n",
       "25599                Midrand             GT      ZA     1682   27873500215   \n",
       "\n",
       "                             Timezone  Longitude  Latitude  \n",
       "25595          GMT+000000 Asia/Saigon     106.70     10.78  \n",
       "25596          GMT+000000 Asia/Saigon     106.71     10.72  \n",
       "25597  GMT+000000 Africa/Johannesburg      28.04    -26.15  \n",
       "25598  GMT+000000 Africa/Johannesburg      28.28    -25.79  \n",
       "25599  GMT+000000 Africa/Johannesburg      28.11    -26.02  "
      ]
     },
     "execution_count": 10,
     "metadata": {},
     "output_type": "execute_result"
    }
   ],
   "source": [
    "starbucks.tail()"
   ]
  },
  {
   "cell_type": "code",
   "execution_count": 11,
   "id": "91107236-05cf-4c45-a854-7a531ec077b5",
   "metadata": {},
   "outputs": [
    {
     "data": {
      "text/plain": [
       "(25600, 13)"
      ]
     },
     "execution_count": 11,
     "metadata": {},
     "output_type": "execute_result"
    }
   ],
   "source": [
    "starbucks.shape"
   ]
  },
  {
   "cell_type": "code",
   "execution_count": 12,
   "id": "e3ddcdc6-26a8-4693-8140-404d41c909c4",
   "metadata": {},
   "outputs": [
    {
     "data": {
      "text/plain": [
       "332800"
      ]
     },
     "execution_count": 12,
     "metadata": {},
     "output_type": "execute_result"
    }
   ],
   "source": [
    "starbucks.size"
   ]
  },
  {
   "cell_type": "code",
   "execution_count": 13,
   "id": "ddb46390-0688-4be1-936e-582697311587",
   "metadata": {},
   "outputs": [
    {
     "data": {
      "text/plain": [
       "2"
      ]
     },
     "execution_count": 13,
     "metadata": {},
     "output_type": "execute_result"
    }
   ],
   "source": [
    "starbucks.ndim"
   ]
  },
  {
   "cell_type": "code",
   "execution_count": 14,
   "id": "db5f9a94-52bd-4f9a-a5c6-6ff7c96f18f7",
   "metadata": {},
   "outputs": [
    {
     "data": {
      "text/plain": [
       "Index(['Brand', 'Store Number', 'Store Name', 'Ownership Type',\n",
       "       'Street Address', 'City', 'State/Province', 'Country', 'Postcode',\n",
       "       'Phone Number', 'Timezone', 'Longitude', 'Latitude'],\n",
       "      dtype='object')"
      ]
     },
     "execution_count": 14,
     "metadata": {},
     "output_type": "execute_result"
    }
   ],
   "source": [
    "starbucks.columns"
   ]
  },
  {
   "cell_type": "code",
   "execution_count": 15,
   "id": "9cef4ada-2af3-462f-96f8-a957932db124",
   "metadata": {},
   "outputs": [
    {
     "data": {
      "text/plain": [
       "Brand              object\n",
       "Store Number       object\n",
       "Store Name         object\n",
       "Ownership Type     object\n",
       "Street Address     object\n",
       "City               object\n",
       "State/Province     object\n",
       "Country            object\n",
       "Postcode           object\n",
       "Phone Number       object\n",
       "Timezone           object\n",
       "Longitude         float64\n",
       "Latitude          float64\n",
       "dtype: object"
      ]
     },
     "execution_count": 15,
     "metadata": {},
     "output_type": "execute_result"
    }
   ],
   "source": [
    "starbucks.dtypes"
   ]
  },
  {
   "cell_type": "code",
   "execution_count": 16,
   "id": "24cba468-2e7b-4024-a2e4-ed1928b85fb6",
   "metadata": {},
   "outputs": [
    {
     "data": {
      "text/plain": [
       "Brand                0\n",
       "Store Number         0\n",
       "Store Name           0\n",
       "Ownership Type       0\n",
       "Street Address       2\n",
       "City                15\n",
       "State/Province       0\n",
       "Country              0\n",
       "Postcode          1522\n",
       "Phone Number      6861\n",
       "Timezone             0\n",
       "Longitude            1\n",
       "Latitude             1\n",
       "dtype: int64"
      ]
     },
     "execution_count": 16,
     "metadata": {},
     "output_type": "execute_result"
    }
   ],
   "source": [
    "starbucks.isnull().sum()"
   ]
  },
  {
   "cell_type": "code",
   "execution_count": 17,
   "id": "a1d00375-923a-4ee7-81e9-63383d0fddc1",
   "metadata": {},
   "outputs": [
    {
     "name": "stdout",
     "output_type": "stream",
     "text": [
      "<class 'pandas.core.frame.DataFrame'>\n",
      "RangeIndex: 25600 entries, 0 to 25599\n",
      "Data columns (total 13 columns):\n",
      " #   Column          Non-Null Count  Dtype  \n",
      "---  ------          --------------  -----  \n",
      " 0   Brand           25600 non-null  object \n",
      " 1   Store Number    25600 non-null  object \n",
      " 2   Store Name      25600 non-null  object \n",
      " 3   Ownership Type  25600 non-null  object \n",
      " 4   Street Address  25598 non-null  object \n",
      " 5   City            25585 non-null  object \n",
      " 6   State/Province  25600 non-null  object \n",
      " 7   Country         25600 non-null  object \n",
      " 8   Postcode        24078 non-null  object \n",
      " 9   Phone Number    18739 non-null  object \n",
      " 10  Timezone        25600 non-null  object \n",
      " 11  Longitude       25599 non-null  float64\n",
      " 12  Latitude        25599 non-null  float64\n",
      "dtypes: float64(2), object(11)\n",
      "memory usage: 2.5+ MB\n"
     ]
    }
   ],
   "source": [
    "starbucks.info()"
   ]
  },
  {
   "cell_type": "code",
   "execution_count": 18,
   "id": "3f6bd8f6-6610-4d13-b1c4-a8094cde3504",
   "metadata": {},
   "outputs": [
    {
     "data": {
      "text/html": [
       "<div>\n",
       "<style scoped>\n",
       "    .dataframe tbody tr th:only-of-type {\n",
       "        vertical-align: middle;\n",
       "    }\n",
       "\n",
       "    .dataframe tbody tr th {\n",
       "        vertical-align: top;\n",
       "    }\n",
       "\n",
       "    .dataframe thead th {\n",
       "        text-align: right;\n",
       "    }\n",
       "</style>\n",
       "<table border=\"1\" class=\"dataframe\">\n",
       "  <thead>\n",
       "    <tr style=\"text-align: right;\">\n",
       "      <th></th>\n",
       "      <th>Longitude</th>\n",
       "      <th>Latitude</th>\n",
       "    </tr>\n",
       "  </thead>\n",
       "  <tbody>\n",
       "    <tr>\n",
       "      <th>count</th>\n",
       "      <td>25599.000000</td>\n",
       "      <td>25599.000000</td>\n",
       "    </tr>\n",
       "    <tr>\n",
       "      <th>mean</th>\n",
       "      <td>-27.872234</td>\n",
       "      <td>34.793016</td>\n",
       "    </tr>\n",
       "    <tr>\n",
       "      <th>std</th>\n",
       "      <td>96.844046</td>\n",
       "      <td>13.342332</td>\n",
       "    </tr>\n",
       "    <tr>\n",
       "      <th>min</th>\n",
       "      <td>-159.460000</td>\n",
       "      <td>-46.410000</td>\n",
       "    </tr>\n",
       "    <tr>\n",
       "      <th>25%</th>\n",
       "      <td>-104.665000</td>\n",
       "      <td>31.240000</td>\n",
       "    </tr>\n",
       "    <tr>\n",
       "      <th>50%</th>\n",
       "      <td>-79.350000</td>\n",
       "      <td>36.750000</td>\n",
       "    </tr>\n",
       "    <tr>\n",
       "      <th>75%</th>\n",
       "      <td>100.630000</td>\n",
       "      <td>41.570000</td>\n",
       "    </tr>\n",
       "    <tr>\n",
       "      <th>max</th>\n",
       "      <td>176.920000</td>\n",
       "      <td>64.850000</td>\n",
       "    </tr>\n",
       "  </tbody>\n",
       "</table>\n",
       "</div>"
      ],
      "text/plain": [
       "          Longitude      Latitude\n",
       "count  25599.000000  25599.000000\n",
       "mean     -27.872234     34.793016\n",
       "std       96.844046     13.342332\n",
       "min     -159.460000    -46.410000\n",
       "25%     -104.665000     31.240000\n",
       "50%      -79.350000     36.750000\n",
       "75%      100.630000     41.570000\n",
       "max      176.920000     64.850000"
      ]
     },
     "execution_count": 18,
     "metadata": {},
     "output_type": "execute_result"
    }
   ],
   "source": [
    "starbucks.describe()"
   ]
  },
  {
   "cell_type": "code",
   "execution_count": 19,
   "id": "14a1d1f2-6d2e-46bf-9765-b97bcc22e087",
   "metadata": {},
   "outputs": [
    {
     "data": {
      "text/html": [
       "<div>\n",
       "<style scoped>\n",
       "    .dataframe tbody tr th:only-of-type {\n",
       "        vertical-align: middle;\n",
       "    }\n",
       "\n",
       "    .dataframe tbody tr th {\n",
       "        vertical-align: top;\n",
       "    }\n",
       "\n",
       "    .dataframe thead th {\n",
       "        text-align: right;\n",
       "    }\n",
       "</style>\n",
       "<table border=\"1\" class=\"dataframe\">\n",
       "  <thead>\n",
       "    <tr style=\"text-align: right;\">\n",
       "      <th></th>\n",
       "      <th>Brand</th>\n",
       "      <th>Store Number</th>\n",
       "      <th>Store Name</th>\n",
       "      <th>Ownership Type</th>\n",
       "      <th>Street Address</th>\n",
       "      <th>City</th>\n",
       "      <th>State/Province</th>\n",
       "      <th>Country</th>\n",
       "      <th>Postcode</th>\n",
       "      <th>Phone Number</th>\n",
       "      <th>Timezone</th>\n",
       "    </tr>\n",
       "  </thead>\n",
       "  <tbody>\n",
       "    <tr>\n",
       "      <th>count</th>\n",
       "      <td>25600</td>\n",
       "      <td>25600</td>\n",
       "      <td>25600</td>\n",
       "      <td>25600</td>\n",
       "      <td>25598</td>\n",
       "      <td>25585</td>\n",
       "      <td>25600</td>\n",
       "      <td>25600</td>\n",
       "      <td>24078</td>\n",
       "      <td>18739</td>\n",
       "      <td>25600</td>\n",
       "    </tr>\n",
       "    <tr>\n",
       "      <th>unique</th>\n",
       "      <td>4</td>\n",
       "      <td>25599</td>\n",
       "      <td>25364</td>\n",
       "      <td>4</td>\n",
       "      <td>25353</td>\n",
       "      <td>5469</td>\n",
       "      <td>338</td>\n",
       "      <td>73</td>\n",
       "      <td>18887</td>\n",
       "      <td>18402</td>\n",
       "      <td>101</td>\n",
       "    </tr>\n",
       "    <tr>\n",
       "      <th>top</th>\n",
       "      <td>Starbucks</td>\n",
       "      <td>19773-160973</td>\n",
       "      <td>Starbucks</td>\n",
       "      <td>Company Owned</td>\n",
       "      <td>Circular Building #6, Guard Post 8</td>\n",
       "      <td>上海市</td>\n",
       "      <td>CA</td>\n",
       "      <td>US</td>\n",
       "      <td>0</td>\n",
       "      <td>4.20E+11</td>\n",
       "      <td>GMT-05:00 America/New_York</td>\n",
       "    </tr>\n",
       "    <tr>\n",
       "      <th>freq</th>\n",
       "      <td>25249</td>\n",
       "      <td>2</td>\n",
       "      <td>224</td>\n",
       "      <td>11932</td>\n",
       "      <td>11</td>\n",
       "      <td>542</td>\n",
       "      <td>2821</td>\n",
       "      <td>13608</td>\n",
       "      <td>101</td>\n",
       "      <td>27</td>\n",
       "      <td>4889</td>\n",
       "    </tr>\n",
       "  </tbody>\n",
       "</table>\n",
       "</div>"
      ],
      "text/plain": [
       "            Brand  Store Number Store Name Ownership Type  \\\n",
       "count       25600         25600      25600          25600   \n",
       "unique          4         25599      25364              4   \n",
       "top     Starbucks  19773-160973  Starbucks  Company Owned   \n",
       "freq        25249             2        224          11932   \n",
       "\n",
       "                            Street Address   City State/Province Country  \\\n",
       "count                                25598  25585          25600   25600   \n",
       "unique                               25353   5469            338      73   \n",
       "top     Circular Building #6, Guard Post 8    上海市             CA      US   \n",
       "freq                                    11    542           2821   13608   \n",
       "\n",
       "       Postcode Phone Number                    Timezone  \n",
       "count     24078        18739                       25600  \n",
       "unique    18887        18402                         101  \n",
       "top           0     4.20E+11  GMT-05:00 America/New_York  \n",
       "freq        101           27                        4889  "
      ]
     },
     "execution_count": 19,
     "metadata": {},
     "output_type": "execute_result"
    }
   ],
   "source": [
    "starbucks.describe(include='object')"
   ]
  },
  {
   "cell_type": "code",
   "execution_count": 20,
   "id": "df7a82e9-30ee-4faa-ba23-5300b2740902",
   "metadata": {},
   "outputs": [
    {
     "name": "stdout",
     "output_type": "stream",
     "text": [
      "0\n"
     ]
    }
   ],
   "source": [
    "num_duplicate = starbucks.duplicated().sum()\n",
    "print(num_duplicate)"
   ]
  },
  {
   "cell_type": "markdown",
   "id": "b002776e",
   "metadata": {},
   "source": [
    "- **B) Delete the following features:**\n",
    "   - Store Number\n",
    "   - Timezone\n",
    "   - Longitude\n",
    "   - Latitude "
   ]
  },
  {
   "cell_type": "code",
   "execution_count": 22,
   "id": "bd76556c-67e7-459d-b87b-981d493413cf",
   "metadata": {},
   "outputs": [
    {
     "data": {
      "text/plain": [
       "Index(['Brand', 'Store Name', 'Ownership Type', 'Street Address', 'City',\n",
       "       'State/Province', 'Country', 'Postcode', 'Phone Number'],\n",
       "      dtype='object')"
      ]
     },
     "execution_count": 22,
     "metadata": {},
     "output_type": "execute_result"
    }
   ],
   "source": [
    "starbucks.drop(['Store Number', 'Timezone', 'Longitude', 'Latitude'], axis=1, inplace=True)\n",
    "starbucks.columns"
   ]
  },
  {
   "cell_type": "markdown",
   "id": "616a7bb8",
   "metadata": {},
   "source": [
    "- **C) Rename the following columns' names:**\n",
    "   - Store Name to Store_Name\n",
    "   - Ownership Type to Ownership_Type\n",
    "   - Street Address to Street_Address\n",
    "   - State/Province to State\n",
    "   - Phone Number to Phone_Number"
   ]
  },
  {
   "cell_type": "code",
   "execution_count": 24,
   "id": "278a0c8c-894f-40c8-8a5e-206a94a70266",
   "metadata": {},
   "outputs": [
    {
     "data": {
      "text/plain": [
       "Index(['Brand', 'Store_Name', 'Ownership_Type', 'Street_Address', 'City',\n",
       "       'State', 'Country', 'Postcode', 'Phone_Number'],\n",
       "      dtype='object')"
      ]
     },
     "execution_count": 24,
     "metadata": {},
     "output_type": "execute_result"
    }
   ],
   "source": [
    "starbucks.rename({'Store Name':'Store_Name',\n",
    "                 'Ownership Type':'Ownership_Type',\n",
    "                 'Street Address':'Street_Address',\n",
    "                 'State/Province':'State',\n",
    "                 'Phone Number':'Phone_Number'}, axis=1, inplace=True)\n",
    "starbucks.columns"
   ]
  },
  {
   "cell_type": "markdown",
   "id": "dd8df83a",
   "metadata": {},
   "source": [
    "- **D) Visualization:**\n",
    "  - Plot the categories of the Brand column (first index the unique categories in the Brand column)\n",
    "  - Plot the categories of the Ownership column (first index the unique categories in the Ownership column)\n",
    "  - Plot the 10 countries with highest number of stores (first index the the 10 countries with highest number of stores in the Country column)\n",
    "  - Plot the 10 cities with highest number of stores (first index the the 10 cities with highest number of stores in the City column)\n",
    "   - Plot the 10 US states with highest number of stores (first index the the 10 US states with highest number of stores)"
   ]
  },
  {
   "cell_type": "code",
   "execution_count": 26,
   "id": "b00f3117-3cb6-4091-ac1b-11dc9202a383",
   "metadata": {},
   "outputs": [
    {
     "data": {
      "text/plain": [
       "Brand\n",
       "Starbucks                25249\n",
       "Teavana                    348\n",
       "Evolution Fresh              2\n",
       "Coffee House Holdings        1\n",
       "Name: count, dtype: int64"
      ]
     },
     "execution_count": 26,
     "metadata": {},
     "output_type": "execute_result"
    }
   ],
   "source": [
    "# Plot the categories of the Brand column (first index the unique categories in the Brand column)\n",
    "brand = starbucks['Brand'].value_counts()\n",
    "brand.head()"
   ]
  },
  {
   "cell_type": "code",
   "execution_count": 27,
   "id": "b6e84cf9-1a5a-413f-84d4-510844d2c34d",
   "metadata": {},
   "outputs": [
    {
     "data": {
      "image/png": "[encoded data removed]",
      "text/plain": [
       "<Figure size 640x480 with 1 Axes>"
      ]
     },
     "metadata": {},
     "output_type": "display_data"
    }
   ],
   "source": [
    "brand.plot(kind='bar');"
   ]
  },
  {
   "cell_type": "code",
   "execution_count": 28,
   "id": "36da68e9-02e0-45b3-b95a-7f6dc5ad0de0",
   "metadata": {},
   "outputs": [
    {
     "data": {
      "text/plain": [
       "Ownership_Type\n",
       "Company Owned    11932\n",
       "Licensed          9375\n",
       "Joint Venture     3976\n",
       "Franchise          317\n",
       "Name: count, dtype: int64"
      ]
     },
     "execution_count": 28,
     "metadata": {},
     "output_type": "execute_result"
    }
   ],
   "source": [
    "# Plot the categories of the Ownership column (first index the unique categories in the Ownership column)\n",
    "owner = starbucks['Ownership_Type'].value_counts()\n",
    "owner.head()"
   ]
  },
  {
   "cell_type": "code",
   "execution_count": 29,
   "id": "a1b37c93-e736-4dc5-a8d8-540e9201d5e0",
   "metadata": {},
   "outputs": [
    {
     "data": {
      "text/plain": [
       "<Axes: xlabel='Ownership_Type'>"
      ]
     },
     "execution_count": 29,
     "metadata": {},
     "output_type": "execute_result"
    },
    {
     "data": {
      "image/png": "[encoded data removed]",
      "text/plain": [
       "<Figure size 640x480 with 1 Axes>"
      ]
     },
     "metadata": {},
     "output_type": "display_data"
    }
   ],
   "source": [
    "owner.plot(kind='bar', color='orange')"
   ]
  },
  {
   "cell_type": "code",
   "execution_count": 30,
   "id": "c51b6858-b472-4175-9c06-d70fc7f8abc7",
   "metadata": {},
   "outputs": [
    {
     "data": {
      "text/plain": [
       "Country\n",
       "US    13608\n",
       "CN     2734\n",
       "CA     1468\n",
       "JP     1237\n",
       "KR      993\n",
       "GB      901\n",
       "MX      579\n",
       "TW      394\n",
       "TR      326\n",
       "PH      298\n",
       "Name: count, dtype: int64"
      ]
     },
     "execution_count": 30,
     "metadata": {},
     "output_type": "execute_result"
    }
   ],
   "source": [
    "# Plot the 10 countries with highest number of stores (first index the the 10 countries with highest number of stores in the Country column)\n",
    "country = starbucks['Country'].value_counts()\n",
    "country.head(10)"
   ]
  },
  {
   "cell_type": "code",
   "execution_count": 31,
   "id": "81b5a95c-fc8e-4575-8fda-d5e64e2d259a",
   "metadata": {},
   "outputs": [
    {
     "data": {
      "text/plain": [
       "<Axes: xlabel='Country'>"
      ]
     },
     "execution_count": 31,
     "metadata": {},
     "output_type": "execute_result"
    },
    {
     "data": {
      "image/png": "[encoded data removed]",
      "text/plain": [
       "<Figure size 640x480 with 1 Axes>"
      ]
     },
     "metadata": {},
     "output_type": "display_data"
    }
   ],
   "source": [
    "country.head(10).plot(kind='bar', color='cyan')"
   ]
  },
  {
   "cell_type": "code",
   "execution_count": 32,
   "id": "c9323004-16c2-49d5-a8f7-3188f1481d1e",
   "metadata": {},
   "outputs": [
    {
     "data": {
      "text/plain": [
       "City\n",
       "上海市            542\n",
       "Seoul          243\n",
       "北京市            234\n",
       "New York       232\n",
       "London         216\n",
       "Toronto        192\n",
       "Chicago        180\n",
       "Mexico City    180\n",
       "Seattle        156\n",
       "Las Vegas      156\n",
       "Name: count, dtype: int64"
      ]
     },
     "execution_count": 32,
     "metadata": {},
     "output_type": "execute_result"
    }
   ],
   "source": [
    "# Plot the 10 cities with highest number of stores (first index the the 10 cities with highest number of stores in the City column)\n",
    "city = starbucks['City'].value_counts()\n",
    "city.head(10)"
   ]
  },
  {
   "cell_type": "code",
   "execution_count": 33,
   "id": "91968583-03e1-4ae4-b625-5e817f31e4de",
   "metadata": {},
   "outputs": [
    {
     "data": {
      "text/plain": [
       "<Axes: xlabel='City'>"
      ]
     },
     "execution_count": 33,
     "metadata": {},
     "output_type": "execute_result"
    },
    {
     "data": {
      "image/png": "[encoded data removed]",
      "text/plain": [
       "<Figure size 640x480 with 1 Axes>"
      ]
     },
     "metadata": {},
     "output_type": "display_data"
    }
   ],
   "source": [
    "city.head(10).plot(kind='bar', color='green')"
   ]
  },
  {
   "cell_type": "code",
   "execution_count": 34,
   "id": "c9a2c69c-2544-4ca2-a357-81ca8f6ab6e7",
   "metadata": {},
   "outputs": [
    {
     "data": {
      "text/plain": [
       "State\n",
       "CA     2821\n",
       "TX     1042\n",
       "ENG     787\n",
       "WA      757\n",
       "11      706\n",
       "FL      694\n",
       "NY      645\n",
       "31      580\n",
       "IL      575\n",
       "AZ      536\n",
       "Name: count, dtype: int64"
      ]
     },
     "execution_count": 34,
     "metadata": {},
     "output_type": "execute_result"
    }
   ],
   "source": [
    "# Plot the 10 US states with highest number of stores (first index the the 10 US states with highest number of stores)\n",
    "state = starbucks['State'].value_counts().head(10)\n",
    "state.head(10)"
   ]
  },
  {
   "cell_type": "code",
   "execution_count": 35,
   "id": "c0c65817-d20f-42ec-906d-50df3efbc874",
   "metadata": {},
   "outputs": [
    {
     "data": {
      "text/plain": [
       "<Axes: xlabel='State'>"
      ]
     },
     "execution_count": 35,
     "metadata": {},
     "output_type": "execute_result"
    },
    {
     "data": {
      "image/png": "[encoded data removed]",
      "text/plain": [
       "<Figure size 640x480 with 1 Axes>"
      ]
     },
     "metadata": {},
     "output_type": "display_data"
    }
   ],
   "source": [
    "state.head(10).plot(kind='bar', color='black')"
   ]
  },
  {
   "cell_type": "markdown",
   "id": "17c641b4",
   "metadata": {},
   "source": [
    "## 5. Missing Values\n",
    "- Drop all missing values (drop only the rows not the columns)"
   ]
  },
  {
   "cell_type": "code",
   "execution_count": 37,
   "id": "8a9f9976-21ba-4961-888f-46d8a588b2af",
   "metadata": {},
   "outputs": [
    {
     "name": "stdout",
     "output_type": "stream",
     "text": [
      "Brand                0\n",
      "Store_Name           0\n",
      "Ownership_Type       0\n",
      "Street_Address       2\n",
      "City                15\n",
      "State                0\n",
      "Country              0\n",
      "Postcode          1522\n",
      "Phone_Number      6861\n",
      "dtype: int64\n",
      "(25600, 9)\n"
     ]
    }
   ],
   "source": [
    "print(starbucks.isnull().sum())\n",
    "print(starbucks.shape)"
   ]
  },
  {
   "cell_type": "code",
   "execution_count": 38,
   "id": "a9af5f73-bd9a-481d-bcf8-d6b873b79a85",
   "metadata": {},
   "outputs": [
    {
     "name": "stdout",
     "output_type": "stream",
     "text": [
      "Brand             0\n",
      "Store_Name        0\n",
      "Ownership_Type    0\n",
      "Street_Address    0\n",
      "City              0\n",
      "State             0\n",
      "Country           0\n",
      "Postcode          0\n",
      "Phone_Number      0\n",
      "dtype: int64\n",
      "(18084, 9)\n"
     ]
    }
   ],
   "source": [
    "starbucks.dropna(axis=0, inplace=True)\n",
    "print(starbucks.isnull().sum())\n",
    "print(starbucks.shape)"
   ]
  },
  {
   "cell_type": "markdown",
   "id": "cd501128",
   "metadata": {},
   "source": [
    "## 6. Key Mining Questions: \n",
    "- 上海市 (This is Shanghai)\n",
    "- 北京市 (This is Beijing)\n",
    "- US: United States\n",
    "- CN: China\n",
    "- CA: Canada\n",
    "- JP: Japan\n",
    "- KR: South Korea\n",
    "- GB: United Kingdom (England)\n",
    "- MX: Mexico\n",
    "- TW: Taiwan\n",
    "- TR: Turkey\n",
    "- PH: Philippines \n",
    "\n",
    "\n",
    "   **- Write your answer after each question:** \n",
    "   \n",
    "1. How many Starbucks stores are operating around the world?\n",
    "   - 25249\n",
    "2. How many countries have stores around the world?\n",
    "   - 12 \n",
    "3. Which Country has the maximum number of stores?\n",
    "   - US\n",
    "4. What are the top 10 countries with most number of stores?\n",
    "   - US, CN, CA, JP, KR, GB, MX, TW, TR, PH 356\r\n",
    "PH  \n",
    "5. Which city has the maximum number of stores in USA and \n",
    "    - New York, Shanghaig6obally?\n",
    "6. What are the top 10 cities with most number o\n",
    "    - Shanghai, Seoul, Beijing, New York, London, Toronto, Chicago, Mexico City, Seattle, Las Vegasf7stores?\n",
    "7. How many types of store ownership are there in this\n",
    "    - 4 8ataset?\n",
    "8. What are the top 10 states in USA with the most number o\n",
    "    - CA, TX, WA, FL, NY, IL, AZ, ENG, 11, 31  f stores?"
   ]
  },
  {
   "cell_type": "markdown",
   "id": "d3423ccc",
   "metadata": {},
   "source": [
    "## 7. Conclusion:\n",
    "\n",
    "1. The shape of this dataset is 25600, 13  2\n",
    "6\r",
    " The size of the dataset is 332800\n",
    "P\n",
    "  \n",
    "The dataset has 2 deminsinons\n",
    "\n",
    ". \n",
    "The second largest brand is Teavana\n",
    "\n",
    ". \n",
    "There are 11 object types in this dataset\n",
    "\n",
    ". \n",
    "The US has the most with 13608\n",
    "\n",
    ". \n",
    "There are 11932 company owned shops in this data type\n",
    "6. \n",
    "\n",
    "7. "
   ]
  },
  {
   "cell_type": "code",
   "execution_count": null,
   "id": "cb953547",
   "metadata": {},
   "outputs": [],
   "source": []
  }
 ],
 "metadata": {
  "kernelspec": {
   "display_name": "Python 3 (ipykernel)",
   "language": "python",
   "name": "python3"
  },
  "language_info": {
   "codemirror_mode": {
    "name": "ipython",
    "version": 3
   },
   "file_extension": ".py",
   "mimetype": "text/x-python",
   "name": "python",
   "nbconvert_exporter": "python",
   "pygments_lexer": "ipython3",
   "version": "3.12.4"
  },
  "toc": {
   "base_numbering": 1,
   "nav_menu": {},
   "number_sections": true,
   "sideBar": true,
   "skip_h1_title": false,
   "title_cell": "Table of Contents",
   "title_sidebar": "Contents",
   "toc_cell": false,
   "toc_position": {},
   "toc_section_display": true,
   "toc_window_display": false
  }
 },
 "nbformat": 4,
 "nbformat_minor": 5
}
