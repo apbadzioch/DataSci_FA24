{
 "cells": [
  {
   "cell_type": "code",
   "execution_count": 2,
   "metadata": {},
   "outputs": [],
   "source": [
    "import numpy as np"
   ]
  },
  {
   "cell_type": "code",
   "execution_count": 2,
   "metadata": {},
   "outputs": [],
   "source": [
    "# Set seed for reproducibility\n",
    "np.random.seed(seed=1234)"
   ]
  },
  {
   "cell_type": "code",
   "execution_count": 3,
   "metadata": {},
   "outputs": [
    {
     "name": "stdout",
     "output_type": "stream",
     "text": [
      "x:  6\n",
      "x ndim:  0\n",
      "x shape:  ()\n",
      "x size:  1\n",
      "x dtype:  int64\n"
     ]
    }
   ],
   "source": [
    "# Scalar - (0D tensor) - a single value\n",
    "x = np.array(6)\n",
    "print(\"x: \", x)\n",
    "print(\"x ndim: \", x.ndim)   # number of dimensions\n",
    "print(\"x shape: \", x.shape) # dimensions\n",
    "print(\"x size: \", x.size)   # size of elements\n",
    "print(\"x dtype: \", x.dtype) # data type"
   ]
  },
  {
   "cell_type": "code",
   "execution_count": 5,
   "metadata": {},
   "outputs": [
    {
     "name": "stdout",
     "output_type": "stream",
     "text": [
      "x:  [1.3 2.2 1.7]\n",
      "x ndim:  1\n",
      "x shape:  (3,)\n",
      "x size:  3\n",
      "x dtype:  float64\n"
     ]
    }
   ],
   "source": [
    "# Vector - (1D tensor) - row or column of values\n",
    "x = np.array([1.3, 2.2, 1.7])\n",
    "print(\"x: \", x)\n",
    "print(\"x ndim: \", x.ndim)\n",
    "print(\"x shape: \", x.shape)\n",
    "print(\"x size: \", x.size)\n",
    "print(\"x dtype: \", x.dtype)"
   ]
  },
  {
   "cell_type": "code",
   "execution_count": 6,
   "metadata": {},
   "outputs": [
    {
     "name": "stdout",
     "output_type": "stream",
     "text": [
      "x:  [[1 2]\n",
      " [3 4]]\n",
      "x ndim:  2\n",
      "x shape:  (2, 2)\n",
      "x size:  4\n",
      "x dtype:  int64\n"
     ]
    }
   ],
   "source": [
    "# Matrix - (2D tensor) - array (rows and columns of values)\n",
    "x = np.array([[1, 2], [3, 4]])\n",
    "print(\"x: \", x)\n",
    "print(\"x ndim: \", x.ndim)\n",
    "print(\"x shape: \", x.shape)\n",
    "print(\"x size: \", x.size)\n",
    "print(\"x dtype: \", x.dtype) "
   ]
  },
  {
   "cell_type": "code",
   "execution_count": 8,
   "metadata": {},
   "outputs": [
    {
     "name": "stdout",
     "output_type": "stream",
     "text": [
      "x:\n",
      " [[[1 2]\n",
      "  [3 4]]\n",
      "\n",
      " [[5 6]\n",
      "  [7 8]]]\n",
      "x ndim:  3\n",
      "x shape:  (2, 2, 2)\n",
      "x size:  8\n",
      "x dtype:  int64\n"
     ]
    }
   ],
   "source": [
    "# 3D tensor\n",
    "x = np.array([\n",
    "    [[1, 2], [3, 4]],           # First 2x2 matrix\n",
    "    [[5, 6], [7, 8]]            # Second 2x2 matrix\n",
    "    ])\n",
    "print(\"x:\\n\", x)\n",
    "print(\"x ndim: \", x.ndim)\n",
    "print(\"x shape: \", x.shape)\n",
    "print(\"x size: \", x.size)\n",
    "print(\"x dtype: \", x.dtype)"
   ]
  },
  {
   "cell_type": "code",
   "execution_count": 6,
   "metadata": {},
   "outputs": [
    {
     "name": "stdout",
     "output_type": "stream",
     "text": [
      "x:\n",
      " [[[[ 1  2]\n",
      "   [ 3  4]]\n",
      "\n",
      "  [[ 5  6]\n",
      "   [ 7  8]]]\n",
      "\n",
      "\n",
      " [[[ 9 10]\n",
      "   [11 12]]\n",
      "\n",
      "  [[13 14]\n",
      "   [15 16]]]]\n",
      "x ndim:  4\n",
      "x shape:  (2, 2, 2, 2)\n",
      "x size:  16\n",
      "x dtype:  int64\n"
     ]
    }
   ],
   "source": [
    "# 4D tensor   [common in Convolutional Neural Networks(CNN)]\n",
    "x = np.array([\n",
    "    [\n",
    "        [[1, 2], [3, 4]],  # First 2x2 matrix\n",
    "        [[5, 6], [7, 8]]   # Second 2x2 matrix\n",
    "    ],\n",
    "    [\n",
    "        [[9, 10], [11, 12]],  # Third 2x2 matrix\n",
    "        [[13, 14], [15, 16]]  # Fourth 2x2 matrix\n",
    "    ]\n",
    "])\n",
    "print(\"x:\\n\", x)\n",
    "print(\"x ndim: \", x.ndim)\n",
    "print(\"x shape: \", x.shape)\n",
    "print(\"x size: \", x.size)\n",
    "print(\"x dtype: \", x.dtype)"
   ]
  },
  {
   "cell_type": "code",
   "execution_count": null,
   "metadata": {},
   "outputs": [],
   "source": []
  }
 ],
 "metadata": {
  "kernelspec": {
   "display_name": "base",
   "language": "python",
   "name": "python3"
  },
  "language_info": {
   "codemirror_mode": {
    "name": "ipython",
    "version": 3
   },
   "file_extension": ".py",
   "mimetype": "text/x-python",
   "name": "python",
   "nbconvert_exporter": "python",
   "pygments_lexer": "ipython3",
   "version": "3.12.4"
  }
 },
 "nbformat": 4,
 "nbformat_minor": 2
}
