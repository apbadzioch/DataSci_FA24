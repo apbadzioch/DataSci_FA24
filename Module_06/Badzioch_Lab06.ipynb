{
 "cells": [
  {
   "cell_type": "markdown",
   "metadata": {},
   "source": [
    "# Lab 06 - EDA (Exploratory Data Analysis) - Andrew Badzioch"
   ]
  },
  {
   "cell_type": "markdown",
   "metadata": {},
   "source": [
    "**What is EDA:**\n",
    "1. EDA is a process in data analysis used to analyze and investigate datasets and find out about the main characteriztics.\n",
    "2. EDA helps data analysts to discover patterns and check assumptions.\n",
    "3. EDA is also used to better understand the dataset variables and the relationship between them.\n",
    "4. EDA can help the management team in answering their questions.\n",
    "5. EDA was developed by the American mathematician John Tukey in the 1970's.\n",
    "6. If data visualization tools will be included in the EDA, it can offer a graphic presentation of data.\n",
    "7. When EDA is completed, the processed data can be used in more sophisticated data analysis and model building process such as Machine Learning  (ML)applications.\n",
    "\n",
    "**Types of EDA:**\n",
    "1. Univariate: Creating EDA examining one variable only as the datasest\n",
    "2. Bivariate: Creating EDA examining two variables as the dataset\n",
    "3. Multivariate: Creating EDA examining more than two variables as the dataset\n",
    "\n",
    "**Tools for EDA Presentation:**\n",
    "1. Graphical (data visualization): plots, charts, graphs, heatmaps, histograms\n",
    "2. Nongraphical: Examining the relationship between the variables.\n",
    "\n",
    "**EDA most popular languages:**\n",
    "1. Python\n",
    "2. R lang"
   ]
  },
  {
   "cell_type": "code",
   "execution_count": 1,
   "metadata": {},
   "outputs": [],
   "source": [
    "# import the libraries\n",
    "import numpy as np\n",
    "import pandas as pd\n",
    "\n",
    "import warnings\n",
    "warnings.filterwarnings('ignore')"
   ]
  },
  {
   "cell_type": "markdown",
   "metadata": {},
   "source": [
    "#### Finishing movies practice\n",
    "- study for Final Project"
   ]
  },
  {
   "cell_type": "code",
   "execution_count": 2,
   "metadata": {},
   "outputs": [],
   "source": [
    "# load the dataset\n",
    "df = pd.read_csv('movies.csv')"
   ]
  },
  {
   "cell_type": "code",
   "execution_count": 3,
   "metadata": {},
   "outputs": [
    {
     "data": {
      "text/html": [
       "<div>\n",
       "<style scoped>\n",
       "    .dataframe tbody tr th:only-of-type {\n",
       "        vertical-align: middle;\n",
       "    }\n",
       "\n",
       "    .dataframe tbody tr th {\n",
       "        vertical-align: top;\n",
       "    }\n",
       "\n",
       "    .dataframe thead th {\n",
       "        text-align: right;\n",
       "    }\n",
       "</style>\n",
       "<table border=\"1\" class=\"dataframe\">\n",
       "  <thead>\n",
       "    <tr style=\"text-align: right;\">\n",
       "      <th></th>\n",
       "      <th>Rank</th>\n",
       "      <th>Title</th>\n",
       "      <th>Studio</th>\n",
       "      <th>Gross</th>\n",
       "      <th>Year</th>\n",
       "    </tr>\n",
       "  </thead>\n",
       "  <tbody>\n",
       "    <tr>\n",
       "      <th>0</th>\n",
       "      <td>1</td>\n",
       "      <td>Avengers: Endgame</td>\n",
       "      <td>Buena Vista</td>\n",
       "      <td>$2,796.30</td>\n",
       "      <td>2019</td>\n",
       "    </tr>\n",
       "    <tr>\n",
       "      <th>1</th>\n",
       "      <td>2</td>\n",
       "      <td>Avatar</td>\n",
       "      <td>Fox</td>\n",
       "      <td>$2,789.70</td>\n",
       "      <td>2009</td>\n",
       "    </tr>\n",
       "    <tr>\n",
       "      <th>2</th>\n",
       "      <td>3</td>\n",
       "      <td>Titanic</td>\n",
       "      <td>Paramount</td>\n",
       "      <td>$2,187.50</td>\n",
       "      <td>1997</td>\n",
       "    </tr>\n",
       "    <tr>\n",
       "      <th>3</th>\n",
       "      <td>4</td>\n",
       "      <td>Star Wars: The Force Awakens</td>\n",
       "      <td>Buena Vista</td>\n",
       "      <td>$2,068.20</td>\n",
       "      <td>2015</td>\n",
       "    </tr>\n",
       "    <tr>\n",
       "      <th>4</th>\n",
       "      <td>5</td>\n",
       "      <td>Avengers: Infinity War</td>\n",
       "      <td>Buena Vista</td>\n",
       "      <td>$2,048.40</td>\n",
       "      <td>2018</td>\n",
       "    </tr>\n",
       "  </tbody>\n",
       "</table>\n",
       "</div>"
      ],
      "text/plain": [
       "   Rank                         Title       Studio       Gross  Year\n",
       "0     1             Avengers: Endgame  Buena Vista  $2,796.30   2019\n",
       "1     2                        Avatar          Fox  $2,789.70   2009\n",
       "2     3                       Titanic    Paramount  $2,187.50   1997\n",
       "3     4  Star Wars: The Force Awakens  Buena Vista  $2,068.20   2015\n",
       "4     5        Avengers: Infinity War  Buena Vista  $2,048.40   2018"
      ]
     },
     "execution_count": 3,
     "metadata": {},
     "output_type": "execute_result"
    }
   ],
   "source": [
    "# copy the dataset\n",
    "# make sure the dataset has been copied and check the top 5 rows\n",
    "movies = df.copy()\n",
    "movies.head()"
   ]
  },
  {
   "cell_type": "code",
   "execution_count": 4,
   "metadata": {},
   "outputs": [
    {
     "name": "stdout",
     "output_type": "stream",
     "text": [
      "<class 'pandas.core.frame.DataFrame'>\n",
      "RangeIndex: 782 entries, 0 to 781\n",
      "Data columns (total 5 columns):\n",
      " #   Column  Non-Null Count  Dtype \n",
      "---  ------  --------------  ----- \n",
      " 0   Rank    782 non-null    int64 \n",
      " 1   Title   782 non-null    object\n",
      " 2   Studio  782 non-null    object\n",
      " 3   Gross   782 non-null    object\n",
      " 4   Year    782 non-null    int64 \n",
      "dtypes: int64(2), object(3)\n",
      "memory usage: 30.7+ KB\n"
     ]
    }
   ],
   "source": [
    "movies.info()"
   ]
  },
  {
   "cell_type": "code",
   "execution_count": 5,
   "metadata": {},
   "outputs": [
    {
     "data": {
      "text/html": [
       "<div>\n",
       "<style scoped>\n",
       "    .dataframe tbody tr th:only-of-type {\n",
       "        vertical-align: middle;\n",
       "    }\n",
       "\n",
       "    .dataframe tbody tr th {\n",
       "        vertical-align: top;\n",
       "    }\n",
       "\n",
       "    .dataframe thead th {\n",
       "        text-align: right;\n",
       "    }\n",
       "</style>\n",
       "<table border=\"1\" class=\"dataframe\">\n",
       "  <thead>\n",
       "    <tr style=\"text-align: right;\">\n",
       "      <th></th>\n",
       "      <th>Rank</th>\n",
       "      <th>Year</th>\n",
       "    </tr>\n",
       "  </thead>\n",
       "  <tbody>\n",
       "    <tr>\n",
       "      <th>count</th>\n",
       "      <td>782.000000</td>\n",
       "      <td>782.000000</td>\n",
       "    </tr>\n",
       "    <tr>\n",
       "      <th>mean</th>\n",
       "      <td>391.500000</td>\n",
       "      <td>2006.620205</td>\n",
       "    </tr>\n",
       "    <tr>\n",
       "      <th>std</th>\n",
       "      <td>225.888247</td>\n",
       "      <td>10.026227</td>\n",
       "    </tr>\n",
       "    <tr>\n",
       "      <th>min</th>\n",
       "      <td>1.000000</td>\n",
       "      <td>1939.000000</td>\n",
       "    </tr>\n",
       "    <tr>\n",
       "      <th>25%</th>\n",
       "      <td>196.250000</td>\n",
       "      <td>2001.000000</td>\n",
       "    </tr>\n",
       "    <tr>\n",
       "      <th>50%</th>\n",
       "      <td>391.500000</td>\n",
       "      <td>2009.000000</td>\n",
       "    </tr>\n",
       "    <tr>\n",
       "      <th>75%</th>\n",
       "      <td>586.750000</td>\n",
       "      <td>2014.000000</td>\n",
       "    </tr>\n",
       "    <tr>\n",
       "      <th>max</th>\n",
       "      <td>782.000000</td>\n",
       "      <td>2019.000000</td>\n",
       "    </tr>\n",
       "  </tbody>\n",
       "</table>\n",
       "</div>"
      ],
      "text/plain": [
       "             Rank         Year\n",
       "count  782.000000   782.000000\n",
       "mean   391.500000  2006.620205\n",
       "std    225.888247    10.026227\n",
       "min      1.000000  1939.000000\n",
       "25%    196.250000  2001.000000\n",
       "50%    391.500000  2009.000000\n",
       "75%    586.750000  2014.000000\n",
       "max    782.000000  2019.000000"
      ]
     },
     "execution_count": 5,
     "metadata": {},
     "output_type": "execute_result"
    }
   ],
   "source": [
    "movies.describe()"
   ]
  },
  {
   "cell_type": "code",
   "execution_count": 6,
   "metadata": {},
   "outputs": [
    {
     "data": {
      "text/html": [
       "<div>\n",
       "<style scoped>\n",
       "    .dataframe tbody tr th:only-of-type {\n",
       "        vertical-align: middle;\n",
       "    }\n",
       "\n",
       "    .dataframe tbody tr th {\n",
       "        vertical-align: top;\n",
       "    }\n",
       "\n",
       "    .dataframe thead th {\n",
       "        text-align: right;\n",
       "    }\n",
       "</style>\n",
       "<table border=\"1\" class=\"dataframe\">\n",
       "  <thead>\n",
       "    <tr style=\"text-align: right;\">\n",
       "      <th></th>\n",
       "      <th>count</th>\n",
       "      <th>mean</th>\n",
       "      <th>std</th>\n",
       "      <th>min</th>\n",
       "      <th>25%</th>\n",
       "      <th>50%</th>\n",
       "      <th>75%</th>\n",
       "      <th>max</th>\n",
       "    </tr>\n",
       "  </thead>\n",
       "  <tbody>\n",
       "    <tr>\n",
       "      <th>Rank</th>\n",
       "      <td>782.0</td>\n",
       "      <td>391.500000</td>\n",
       "      <td>225.888247</td>\n",
       "      <td>1.0</td>\n",
       "      <td>196.25</td>\n",
       "      <td>391.5</td>\n",
       "      <td>586.75</td>\n",
       "      <td>782.0</td>\n",
       "    </tr>\n",
       "    <tr>\n",
       "      <th>Year</th>\n",
       "      <td>782.0</td>\n",
       "      <td>2006.620205</td>\n",
       "      <td>10.026227</td>\n",
       "      <td>1939.0</td>\n",
       "      <td>2001.00</td>\n",
       "      <td>2009.0</td>\n",
       "      <td>2014.00</td>\n",
       "      <td>2019.0</td>\n",
       "    </tr>\n",
       "  </tbody>\n",
       "</table>\n",
       "</div>"
      ],
      "text/plain": [
       "      count         mean         std     min      25%     50%      75%     max\n",
       "Rank  782.0   391.500000  225.888247     1.0   196.25   391.5   586.75   782.0\n",
       "Year  782.0  2006.620205   10.026227  1939.0  2001.00  2009.0  2014.00  2019.0"
      ]
     },
     "execution_count": 6,
     "metadata": {},
     "output_type": "execute_result"
    }
   ],
   "source": [
    "# Transpose the dataset with .T: swaps the columns and rows in the output\n",
    "# Examine the statistical summary of the dataset\n",
    "movies.describe().T"
   ]
  },
  {
   "cell_type": "code",
   "execution_count": 7,
   "metadata": {},
   "outputs": [
    {
     "data": {
      "text/html": [
       "<div>\n",
       "<style scoped>\n",
       "    .dataframe tbody tr th:only-of-type {\n",
       "        vertical-align: middle;\n",
       "    }\n",
       "\n",
       "    .dataframe tbody tr th {\n",
       "        vertical-align: top;\n",
       "    }\n",
       "\n",
       "    .dataframe thead th {\n",
       "        text-align: right;\n",
       "    }\n",
       "</style>\n",
       "<table border=\"1\" class=\"dataframe\">\n",
       "  <thead>\n",
       "    <tr style=\"text-align: right;\">\n",
       "      <th></th>\n",
       "      <th>Title</th>\n",
       "      <th>Studio</th>\n",
       "      <th>Gross</th>\n",
       "    </tr>\n",
       "  </thead>\n",
       "  <tbody>\n",
       "    <tr>\n",
       "      <th>count</th>\n",
       "      <td>782</td>\n",
       "      <td>782</td>\n",
       "      <td>782</td>\n",
       "    </tr>\n",
       "    <tr>\n",
       "      <th>unique</th>\n",
       "      <td>773</td>\n",
       "      <td>37</td>\n",
       "      <td>701</td>\n",
       "    </tr>\n",
       "    <tr>\n",
       "      <th>top</th>\n",
       "      <td>Beauty and the Beast</td>\n",
       "      <td>Warner Brothers</td>\n",
       "      <td>$225.90</td>\n",
       "    </tr>\n",
       "    <tr>\n",
       "      <th>freq</th>\n",
       "      <td>2</td>\n",
       "      <td>132</td>\n",
       "      <td>3</td>\n",
       "    </tr>\n",
       "  </tbody>\n",
       "</table>\n",
       "</div>"
      ],
      "text/plain": [
       "                       Title           Studio     Gross\n",
       "count                    782              782       782\n",
       "unique                   773               37       701\n",
       "top     Beauty and the Beast  Warner Brothers  $225.90 \n",
       "freq                       2              132         3"
      ]
     },
     "execution_count": 7,
     "metadata": {},
     "output_type": "execute_result"
    }
   ],
   "source": [
    "# Get the summary of the object dtype variables\n",
    "movies.describe(include='object')"
   ]
  },
  {
   "cell_type": "markdown",
   "metadata": {},
   "source": [
    "**Observations:**\n",
    "- can only get one or the other when using describe (basic or object)\n",
    "- using .T (transcribe) you can view the dataset set on a different axis to better understand the data\n",
    "- (std) Standard Deviation is a measure of how spread out the numbers are in the datset\n",
    "- when the mean and median are close, the dataset is well balanced\n",
    "- describe also returns the MINimum, MAXimum, and percentile within the dataset"
   ]
  },
  {
   "cell_type": "markdown",
   "metadata": {},
   "source": [
    "#### Data Mining Questions:"
   ]
  },
  {
   "cell_type": "code",
   "execution_count": 8,
   "metadata": {},
   "outputs": [
    {
     "data": {
      "text/plain": [
       "Studio\n",
       "Warner Brothers           132\n",
       "Buena Vista               125\n",
       "Fox                       117\n",
       "Universal                 109\n",
       "Sony                       86\n",
       "Paramount                  76\n",
       "Dreamworks                 27\n",
       "Lionsgate                  21\n",
       "New Line                   16\n",
       "MGM                        11\n",
       "TriStar                    11\n",
       "Miramax                    10\n",
       "Weinstein                   6\n",
       "Columbia                    5\n",
       "WGUSA                       4\n",
       "Polygram                    2\n",
       "Orion                       2\n",
       "SonR                        2\n",
       "Dimension                   2\n",
       "Vestron                     1\n",
       "USA                         1\n",
       "Lions                       1\n",
       "Focus                       1\n",
       "Rela.                       1\n",
       "CL                          1\n",
       "Pathe                       1\n",
       "Artisan                     1\n",
       "IFC                         1\n",
       "GrtIndia                    1\n",
       "RKO                         1\n",
       "UTV                         1\n",
       "FUN                         1\n",
       "FR                          1\n",
       "Newmarket                   1\n",
       "China Film Corporation      1\n",
       "HC                          1\n",
       "Magn.                       1\n",
       "Name: count, dtype: int64"
      ]
     },
     "execution_count": 8,
     "metadata": {},
     "output_type": "execute_result"
    }
   ],
   "source": [
    "# Q 1: how many studios are there in this dataset, and what are they?\n",
    "movies['Studio'].value_counts()"
   ]
  },
  {
   "cell_type": "code",
   "execution_count": 9,
   "metadata": {},
   "outputs": [
    {
     "data": {
      "text/plain": [
       "Studio\n",
       "Warner Brothers    132\n",
       "Buena Vista        125\n",
       "Fox                117\n",
       "Universal          109\n",
       "Sony                86\n",
       "Paramount           76\n",
       "Dreamworks          27\n",
       "Lionsgate           21\n",
       "New Line            16\n",
       "MGM                 11\n",
       "Name: count, dtype: int64"
      ]
     },
     "execution_count": 9,
     "metadata": {},
     "output_type": "execute_result"
    }
   ],
   "source": [
    "movies['Studio'].value_counts().head(10)"
   ]
  },
  {
   "cell_type": "markdown",
   "metadata": {},
   "source": [
    "**Observations:**\n",
    "- using square brackets [] returns a Series of that single column\n",
    "- using .value_counts() and then .head() returns the counts of each studio and the first 10 rows "
   ]
  },
  {
   "cell_type": "code",
   "execution_count": 10,
   "metadata": {},
   "outputs": [
    {
     "data": {
      "text/html": [
       "<div>\n",
       "<style scoped>\n",
       "    .dataframe tbody tr th:only-of-type {\n",
       "        vertical-align: middle;\n",
       "    }\n",
       "\n",
       "    .dataframe tbody tr th {\n",
       "        vertical-align: top;\n",
       "    }\n",
       "\n",
       "    .dataframe thead th {\n",
       "        text-align: right;\n",
       "    }\n",
       "</style>\n",
       "<table border=\"1\" class=\"dataframe\">\n",
       "  <thead>\n",
       "    <tr style=\"text-align: right;\">\n",
       "      <th></th>\n",
       "      <th>Rank</th>\n",
       "      <th>Title</th>\n",
       "      <th>Studio</th>\n",
       "      <th>Gross</th>\n",
       "      <th>Year</th>\n",
       "    </tr>\n",
       "  </thead>\n",
       "  <tbody>\n",
       "    <tr>\n",
       "      <th>1</th>\n",
       "      <td>2</td>\n",
       "      <td>Avatar</td>\n",
       "      <td>Fox</td>\n",
       "      <td>$2,789.70</td>\n",
       "      <td>2009</td>\n",
       "    </tr>\n",
       "    <tr>\n",
       "      <th>34</th>\n",
       "      <td>35</td>\n",
       "      <td>Star Wars: Episode I - The Phantom Menace</td>\n",
       "      <td>Fox</td>\n",
       "      <td>$1,027.00</td>\n",
       "      <td>1999</td>\n",
       "    </tr>\n",
       "    <tr>\n",
       "      <th>53</th>\n",
       "      <td>54</td>\n",
       "      <td>Bohemian Rhapsody</td>\n",
       "      <td>Fox</td>\n",
       "      <td>$903.70</td>\n",
       "      <td>2018</td>\n",
       "    </tr>\n",
       "    <tr>\n",
       "      <th>56</th>\n",
       "      <td>57</td>\n",
       "      <td>Ice Age: Dawn of the Dinosaurs</td>\n",
       "      <td>Fox</td>\n",
       "      <td>$886.70</td>\n",
       "      <td>2009</td>\n",
       "    </tr>\n",
       "    <tr>\n",
       "      <th>61</th>\n",
       "      <td>62</td>\n",
       "      <td>Ice Age: Continental Drift</td>\n",
       "      <td>Fox</td>\n",
       "      <td>$877.20</td>\n",
       "      <td>2012</td>\n",
       "    </tr>\n",
       "  </tbody>\n",
       "</table>\n",
       "</div>"
      ],
      "text/plain": [
       "    Rank                                      Title Studio       Gross  Year\n",
       "1      2                                     Avatar    Fox  $2,789.70   2009\n",
       "34    35  Star Wars: Episode I - The Phantom Menace    Fox  $1,027.00   1999\n",
       "53    54                          Bohemian Rhapsody    Fox    $903.70   2018\n",
       "56    57             Ice Age: Dawn of the Dinosaurs    Fox    $886.70   2009\n",
       "61    62                 Ice Age: Continental Drift    Fox    $877.20   2012"
      ]
     },
     "execution_count": 10,
     "metadata": {},
     "output_type": "execute_result"
    }
   ],
   "source": [
    "# Q 2. show only movies released by FOX studio\n",
    "movies[movies['Studio'] == 'Fox'].head()"
   ]
  },
  {
   "cell_type": "markdown",
   "metadata": {},
   "source": [
    "**Observations:**\n",
    "- you can filter the datset by setting a conditional argument that evaluates to a specific condition\n",
    "- this expression returns a Boolean (True or False) result depending on if that condition has been met or not"
   ]
  },
  {
   "cell_type": "code",
   "execution_count": 11,
   "metadata": {},
   "outputs": [],
   "source": [
    "# storing the movies of Fox Studio in a variable\n",
    "movies_released_Fox = movies[movies['Studio'] == 'Fox']"
   ]
  },
  {
   "cell_type": "code",
   "execution_count": 12,
   "metadata": {},
   "outputs": [],
   "source": [
    "# Q 3. see the movies released only in 2015\n",
    "movies_released_2015 = movies[movies['Year'] == 2015]"
   ]
  },
  {
   "cell_type": "code",
   "execution_count": 13,
   "metadata": {},
   "outputs": [
    {
     "data": {
      "text/plain": [
       "39"
      ]
     },
     "execution_count": 13,
     "metadata": {},
     "output_type": "execute_result"
    }
   ],
   "source": [
    "# see the number of movies released in 2015\n",
    "len(movies_released_2015)"
   ]
  },
  {
   "cell_type": "markdown",
   "metadata": {},
   "source": [
    "**Observations:**\n",
    "- you can filter through strings or numbers\n",
    "- you can set a variable for a Series and then use the varable in multiple methods to find different inforamtion"
   ]
  },
  {
   "cell_type": "code",
   "execution_count": 14,
   "metadata": {},
   "outputs": [
    {
     "data": {
      "text/html": [
       "<div>\n",
       "<style scoped>\n",
       "    .dataframe tbody tr th:only-of-type {\n",
       "        vertical-align: middle;\n",
       "    }\n",
       "\n",
       "    .dataframe tbody tr th {\n",
       "        vertical-align: top;\n",
       "    }\n",
       "\n",
       "    .dataframe thead th {\n",
       "        text-align: right;\n",
       "    }\n",
       "</style>\n",
       "<table border=\"1\" class=\"dataframe\">\n",
       "  <thead>\n",
       "    <tr style=\"text-align: right;\">\n",
       "      <th></th>\n",
       "      <th>Rank</th>\n",
       "      <th>Title</th>\n",
       "      <th>Studio</th>\n",
       "      <th>Gross</th>\n",
       "      <th>Year</th>\n",
       "    </tr>\n",
       "  </thead>\n",
       "  <tbody>\n",
       "    <tr>\n",
       "      <th>136</th>\n",
       "      <td>137</td>\n",
       "      <td>The Martian</td>\n",
       "      <td>Fox</td>\n",
       "      <td>$630.20</td>\n",
       "      <td>2015</td>\n",
       "    </tr>\n",
       "    <tr>\n",
       "      <th>185</th>\n",
       "      <td>186</td>\n",
       "      <td>The Revenant</td>\n",
       "      <td>Fox</td>\n",
       "      <td>$533.00</td>\n",
       "      <td>2015</td>\n",
       "    </tr>\n",
       "    <tr>\n",
       "      <th>274</th>\n",
       "      <td>275</td>\n",
       "      <td>Kingsman: The Secret Service</td>\n",
       "      <td>Fox</td>\n",
       "      <td>$414.40</td>\n",
       "      <td>2015</td>\n",
       "    </tr>\n",
       "    <tr>\n",
       "      <th>301</th>\n",
       "      <td>302</td>\n",
       "      <td>Home</td>\n",
       "      <td>Fox</td>\n",
       "      <td>$386.00</td>\n",
       "      <td>2015</td>\n",
       "    </tr>\n",
       "    <tr>\n",
       "      <th>415</th>\n",
       "      <td>416</td>\n",
       "      <td>Taken 3</td>\n",
       "      <td>Fox</td>\n",
       "      <td>$326.50</td>\n",
       "      <td>2015</td>\n",
       "    </tr>\n",
       "    <tr>\n",
       "      <th>437</th>\n",
       "      <td>438</td>\n",
       "      <td>Maze Runner: The Scorch Trials</td>\n",
       "      <td>Fox</td>\n",
       "      <td>$312.30</td>\n",
       "      <td>2015</td>\n",
       "    </tr>\n",
       "    <tr>\n",
       "      <th>594</th>\n",
       "      <td>595</td>\n",
       "      <td>The Peanuts Movie</td>\n",
       "      <td>Fox</td>\n",
       "      <td>$246.20</td>\n",
       "      <td>2015</td>\n",
       "    </tr>\n",
       "    <tr>\n",
       "      <th>636</th>\n",
       "      <td>637</td>\n",
       "      <td>Spy</td>\n",
       "      <td>Fox</td>\n",
       "      <td>$235.70</td>\n",
       "      <td>2015</td>\n",
       "    </tr>\n",
       "    <tr>\n",
       "      <th>640</th>\n",
       "      <td>641</td>\n",
       "      <td>Alvin and the Chipmunks: The Road Chip</td>\n",
       "      <td>Fox</td>\n",
       "      <td>$234.80</td>\n",
       "      <td>2015</td>\n",
       "    </tr>\n",
       "  </tbody>\n",
       "</table>\n",
       "</div>"
      ],
      "text/plain": [
       "     Rank                                   Title Studio     Gross  Year\n",
       "136   137                             The Martian    Fox  $630.20   2015\n",
       "185   186                            The Revenant    Fox  $533.00   2015\n",
       "274   275            Kingsman: The Secret Service    Fox  $414.40   2015\n",
       "301   302                                    Home    Fox  $386.00   2015\n",
       "415   416                                 Taken 3    Fox  $326.50   2015\n",
       "437   438          Maze Runner: The Scorch Trials    Fox  $312.30   2015\n",
       "594   595                       The Peanuts Movie    Fox  $246.20   2015\n",
       "636   637                                     Spy    Fox  $235.70   2015\n",
       "640   641  Alvin and the Chipmunks: The Road Chip    Fox  $234.80   2015"
      ]
     },
     "execution_count": 14,
     "metadata": {},
     "output_type": "execute_result"
    }
   ],
   "source": [
    "# Q 4. how many movies were released i 2015\n",
    "movies_released_Fox_2015 = movies[(movies['Year'] == 2015) & (movies['Studio'] == 'Fox')]\n",
    "movies_released_Fox_2015"
   ]
  },
  {
   "cell_type": "code",
   "execution_count": 15,
   "metadata": {},
   "outputs": [
    {
     "data": {
      "text/plain": [
       "9"
      ]
     },
     "execution_count": 15,
     "metadata": {},
     "output_type": "execute_result"
    }
   ],
   "source": [
    "len(movies_released_Fox_2015)"
   ]
  },
  {
   "cell_type": "code",
   "execution_count": 16,
   "metadata": {},
   "outputs": [
    {
     "data": {
      "text/html": [
       "<div>\n",
       "<style scoped>\n",
       "    .dataframe tbody tr th:only-of-type {\n",
       "        vertical-align: middle;\n",
       "    }\n",
       "\n",
       "    .dataframe tbody tr th {\n",
       "        vertical-align: top;\n",
       "    }\n",
       "\n",
       "    .dataframe thead th {\n",
       "        text-align: right;\n",
       "    }\n",
       "</style>\n",
       "<table border=\"1\" class=\"dataframe\">\n",
       "  <thead>\n",
       "    <tr style=\"text-align: right;\">\n",
       "      <th></th>\n",
       "      <th>Rank</th>\n",
       "      <th>Title</th>\n",
       "      <th>Studio</th>\n",
       "      <th>Gross</th>\n",
       "      <th>Year</th>\n",
       "    </tr>\n",
       "  </thead>\n",
       "  <tbody>\n",
       "    <tr>\n",
       "      <th>136</th>\n",
       "      <td>137</td>\n",
       "      <td>The Martian</td>\n",
       "      <td>Fox</td>\n",
       "      <td>$630.20</td>\n",
       "      <td>2015</td>\n",
       "    </tr>\n",
       "    <tr>\n",
       "      <th>185</th>\n",
       "      <td>186</td>\n",
       "      <td>The Revenant</td>\n",
       "      <td>Fox</td>\n",
       "      <td>$533.00</td>\n",
       "      <td>2015</td>\n",
       "    </tr>\n",
       "    <tr>\n",
       "      <th>274</th>\n",
       "      <td>275</td>\n",
       "      <td>Kingsman: The Secret Service</td>\n",
       "      <td>Fox</td>\n",
       "      <td>$414.40</td>\n",
       "      <td>2015</td>\n",
       "    </tr>\n",
       "    <tr>\n",
       "      <th>301</th>\n",
       "      <td>302</td>\n",
       "      <td>Home</td>\n",
       "      <td>Fox</td>\n",
       "      <td>$386.00</td>\n",
       "      <td>2015</td>\n",
       "    </tr>\n",
       "    <tr>\n",
       "      <th>415</th>\n",
       "      <td>416</td>\n",
       "      <td>Taken 3</td>\n",
       "      <td>Fox</td>\n",
       "      <td>$326.50</td>\n",
       "      <td>2015</td>\n",
       "    </tr>\n",
       "    <tr>\n",
       "      <th>437</th>\n",
       "      <td>438</td>\n",
       "      <td>Maze Runner: The Scorch Trials</td>\n",
       "      <td>Fox</td>\n",
       "      <td>$312.30</td>\n",
       "      <td>2015</td>\n",
       "    </tr>\n",
       "    <tr>\n",
       "      <th>594</th>\n",
       "      <td>595</td>\n",
       "      <td>The Peanuts Movie</td>\n",
       "      <td>Fox</td>\n",
       "      <td>$246.20</td>\n",
       "      <td>2015</td>\n",
       "    </tr>\n",
       "    <tr>\n",
       "      <th>636</th>\n",
       "      <td>637</td>\n",
       "      <td>Spy</td>\n",
       "      <td>Fox</td>\n",
       "      <td>$235.70</td>\n",
       "      <td>2015</td>\n",
       "    </tr>\n",
       "    <tr>\n",
       "      <th>640</th>\n",
       "      <td>641</td>\n",
       "      <td>Alvin and the Chipmunks: The Road Chip</td>\n",
       "      <td>Fox</td>\n",
       "      <td>$234.80</td>\n",
       "      <td>2015</td>\n",
       "    </tr>\n",
       "  </tbody>\n",
       "</table>\n",
       "</div>"
      ],
      "text/plain": [
       "     Rank                                   Title Studio     Gross  Year\n",
       "136   137                             The Martian    Fox  $630.20   2015\n",
       "185   186                            The Revenant    Fox  $533.00   2015\n",
       "274   275            Kingsman: The Secret Service    Fox  $414.40   2015\n",
       "301   302                                    Home    Fox  $386.00   2015\n",
       "415   416                                 Taken 3    Fox  $326.50   2015\n",
       "437   438          Maze Runner: The Scorch Trials    Fox  $312.30   2015\n",
       "594   595                       The Peanuts Movie    Fox  $246.20   2015\n",
       "636   637                                     Spy    Fox  $235.70   2015\n",
       "640   641  Alvin and the Chipmunks: The Road Chip    Fox  $234.80   2015"
      ]
     },
     "execution_count": 16,
     "metadata": {},
     "output_type": "execute_result"
    }
   ],
   "source": [
    "oren_code = movies_released_Fox[movies_released_Fox['Year'] == 2015]\n",
    "oren_code"
   ]
  },
  {
   "cell_type": "markdown",
   "metadata": {},
   "source": [
    "**Observations:**\n",
    "- there are multiple ways to filter data\n",
    "- you can again use conditional filtering with 2 equal signs (==)\n",
    "- you can also use logical conditions with and (&) or or(|)"
   ]
  },
  {
   "cell_type": "markdown",
   "metadata": {},
   "source": [
    "### Conclusion:\n",
    "- you can extract a Series by specifying a column using square brackets []\n",
    "allowing column specif operations\n",
    "- conditional filtering can be used with pandas to isolate rows where a specific condition is needed\n",
    "- logical operators (AND(&)) and (OR(|)) can be used to combine muliple conditions and parenthesis are crucial for correct operation\n",
    "- value_counts() methos can be used to generate a frequency count on specific columns\n",
    "- head() and tail() give a preview to the dataset without printing the entire dataset\n",
    "- describe() generates a summary of numerical columns by default, but can be used for objects \n",
    "- you can create new Series and DataFrames by assigning variables to the filtered conditions \n",
    "- multi-conditional filtering can be used to focus on subsets of data\n",
    "- you can chain multiple methods together in one line performing more than one step\n",
    "- performing EDA has many steps, but is necessary to understand the dataset"
   ]
  },
  {
   "cell_type": "markdown",
   "metadata": {},
   "source": [
    "##### End of Lab 06"
   ]
  }
 ],
 "metadata": {
  "kernelspec": {
   "display_name": "base",
   "language": "python",
   "name": "python3"
  },
  "language_info": {
   "codemirror_mode": {
    "name": "ipython",
    "version": 3
   },
   "file_extension": ".py",
   "mimetype": "text/x-python",
   "name": "python",
   "nbconvert_exporter": "python",
   "pygments_lexer": "ipython3",
   "version": "3.11.7"
  }
 },
 "nbformat": 4,
 "nbformat_minor": 2
}
